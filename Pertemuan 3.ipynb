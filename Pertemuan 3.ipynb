{
 "cells": [
  {
   "cell_type": "code",
   "execution_count": 2,
   "metadata": {},
   "outputs": [],
   "source": [
    "# FUngsi\n",
    "def hello(n, k):\n",
    "    for i in range(n):\n",
    "        print(k)"
   ]
  },
  {
   "cell_type": "code",
   "execution_count": 3,
   "metadata": {},
   "outputs": [
    {
     "name": "stdout",
     "output_type": "stream",
     "text": [
      "Program python\n",
      "Program python\n",
      "Program python\n",
      "Program python\n",
      "Program python\n",
      "Program python\n",
      "Program python\n",
      "Program python\n",
      "Program python\n",
      "Program python\n"
     ]
    }
   ],
   "source": [
    "hello(10,\"Program python\")"
   ]
  },
  {
   "cell_type": "code",
   "execution_count": 5,
   "metadata": {},
   "outputs": [],
   "source": [
    "# fungsi membalikkan sebuah nilai \n",
    "def faktorial(n):\n",
    "    i=1\n",
    "    result = 1\n",
    "    while i < n:\n",
    "        result = result * n\n",
    "        n = n -1\n",
    "    \n",
    "    return result "
   ]
  },
  {
   "cell_type": "code",
   "execution_count": 7,
   "metadata": {},
   "outputs": [
    {
     "name": "stdout",
     "output_type": "stream",
     "text": [
      "6\n"
     ]
    }
   ],
   "source": [
    "hasil = faktorial(3)\n",
    "print(hasil)"
   ]
  },
  {
   "cell_type": "markdown",
   "metadata": {},
   "source": [
    "# 2. File INPUT OUTPUT"
   ]
  },
  {
   "cell_type": "code",
   "execution_count": 8,
   "metadata": {},
   "outputs": [],
   "source": [
    "f = open('data.txt','w')\n",
    "f.write('Hello world !  \\n')\n",
    "f.write('Something in second line !  \\n')\n",
    "f.write('sentence in third line  \\n')\n",
    "f.write('end blah blah line  \\n')\n",
    "f.close()"
   ]
  },
  {
   "cell_type": "code",
   "execution_count": 9,
   "metadata": {},
   "outputs": [
    {
     "name": "stdout",
     "output_type": "stream",
     "text": [
      "Hello world !  \n",
      "Something in second line !  \n",
      "sentence in third line  \n",
      "end blah blah line  \n",
      "\n"
     ]
    }
   ],
   "source": [
    "fo = open('data.txt','r')\n",
    "print(fo.read())\n",
    "fo.close()"
   ]
  },
  {
   "cell_type": "code",
   "execution_count": 10,
   "metadata": {},
   "outputs": [
    {
     "name": "stdout",
     "output_type": "stream",
     "text": [
      "===============\n",
      "hello world !  \n",
      "\n",
      "===============\n",
      "something in second line !  \n",
      "\n",
      "===============\n",
      "sentence in third line  \n",
      "\n",
      "===============\n",
      "end blah blah line  \n",
      "\n"
     ]
    }
   ],
   "source": [
    "fo = open('data.txt','r')\n",
    "for i in fo:\n",
    "    print('===============')\n",
    "    print(i.lower())\n",
    "fo.close()"
   ]
  },
  {
   "cell_type": "markdown",
   "metadata": {},
   "source": [
    "# 3. Import"
   ]
  },
  {
   "cell_type": "code",
   "execution_count": 15,
   "metadata": {},
   "outputs": [
    {
     "name": "stdout",
     "output_type": "stream",
     "text": [
      "0.14062194086618174\n",
      "2\n"
     ]
    }
   ],
   "source": [
    "# Random\n",
    "import random\n",
    "r = random.random()\n",
    "print(r)\n",
    "\n",
    "r = random.randint(1,10)\n",
    "print(r)"
   ]
  },
  {
   "cell_type": "code",
   "execution_count": 21,
   "metadata": {},
   "outputs": [
    {
     "name": "stdout",
     "output_type": "stream",
     "text": [
      "[0, 1, 1, 3, 4, 9, 15] 4.714285714285714 3 1\n"
     ]
    }
   ],
   "source": [
    "import statistics\n",
    "\n",
    "a = [0,1,1,3,4,9,15]\n",
    "b = statistics.mean(a)\n",
    "c = statistics.median(a)\n",
    "d = statistics.mode(a)\n",
    "\n",
    "print(a,b,c,d)"
   ]
  },
  {
   "cell_type": "code",
   "execution_count": null,
   "metadata": {},
   "outputs": [],
   "source": [
    "dir(statistics)"
   ]
  },
  {
   "cell_type": "markdown",
   "metadata": {},
   "source": [
    "# Modul CSV"
   ]
  },
  {
   "cell_type": "code",
   "execution_count": 22,
   "metadata": {},
   "outputs": [],
   "source": [
    "import csv\n",
    "\n",
    "#penggunaan with ... as namavariabel\n",
    "#  memastikan bahwa fungsi open file langsung di closed agar memory kembali kosong\n",
    "\n"
   ]
  },
  {
   "cell_type": "code",
   "execution_count": 26,
   "metadata": {},
   "outputs": [
    {
     "name": "stdout",
     "output_type": "stream",
     "text": [
      "[1 2 3]\n",
      "<class 'numpy.ndarray'>\n",
      "[[1 2 3]\n",
      " [4 5 6]]\n",
      "(2, 3)\n"
     ]
    }
   ],
   "source": [
    "import numpy as np\n",
    "\n",
    "a = np.array([1,2,3])\n",
    "print(a)\n",
    "print(type(a))\n",
    "\n",
    "b = np.array([[1,2,3],[4,5,6]])\n",
    "print(b)\n",
    "print(b.shape)"
   ]
  },
  {
   "cell_type": "code",
   "execution_count": 27,
   "metadata": {},
   "outputs": [
    {
     "name": "stdout",
     "output_type": "stream",
     "text": [
      "[[0. 0.]\n",
      " [0. 0.]]\n"
     ]
    }
   ],
   "source": [
    "c = np.zeros((2,2))\n",
    "print(c)\n",
    "\n"
   ]
  },
  {
   "cell_type": "code",
   "execution_count": 28,
   "metadata": {},
   "outputs": [
    {
     "name": "stdout",
     "output_type": "stream",
     "text": [
      "[[ 1  2  3  4]\n",
      " [ 5  6  7  8]\n",
      " [ 9 10 11 12]]\n",
      "[[2 3]\n",
      " [6 7]]\n"
     ]
    }
   ],
   "source": [
    "a = np.array([[1,2,3,4], [5,6,7,8], [9,10,11,12]])\n",
    "print(a)\n",
    "b = a[:2, 1:3]  # baris awal s.d. baris ke 2, dan kolom indeks-ke-1 sd kolom ke-3\n",
    "print(b)\n",
    "# print(a[0, 1])   \n",
    "# b[0, 0] = 77     \n",
    "# print(a[0, 1])"
   ]
  },
  {
   "cell_type": "code",
   "execution_count": 30,
   "metadata": {},
   "outputs": [],
   "source": [
    "import pandas as pd"
   ]
  },
  {
   "cell_type": "code",
   "execution_count": 32,
   "metadata": {},
   "outputs": [],
   "source": [
    "data_kekeringan = pd.read_csv('data-bencana-kekeringan-2012-2013.csv',delimiter =',', encoding = \"ISO-8859-1\")"
   ]
  },
  {
   "cell_type": "code",
   "execution_count": 35,
   "metadata": {},
   "outputs": [
    {
     "data": {
      "text/html": [
       "<div>\n",
       "<style scoped>\n",
       "    .dataframe tbody tr th:only-of-type {\n",
       "        vertical-align: middle;\n",
       "    }\n",
       "\n",
       "    .dataframe tbody tr th {\n",
       "        vertical-align: top;\n",
       "    }\n",
       "\n",
       "    .dataframe thead th {\n",
       "        text-align: right;\n",
       "    }\n",
       "</style>\n",
       "<table border=\"1\" class=\"dataframe\">\n",
       "  <thead>\n",
       "    <tr style=\"text-align: right;\">\n",
       "      <th></th>\n",
       "      <th>No</th>\n",
       "      <th>Bencana</th>\n",
       "      <th>Tanggal</th>\n",
       "      <th>Jam</th>\n",
       "      <th>Bujur</th>\n",
       "      <th>Lintang</th>\n",
       "      <th>Lokasi</th>\n",
       "      <th>Korban</th>\n",
       "      <th>Kerugian</th>\n",
       "      <th>Keterangan</th>\n",
       "    </tr>\n",
       "  </thead>\n",
       "  <tbody>\n",
       "    <tr>\n",
       "      <th>13</th>\n",
       "      <td>14</td>\n",
       "      <td>Kekeringan</td>\n",
       "      <td>9/5/2013</td>\n",
       "      <td>NaN</td>\n",
       "      <td>113.994</td>\n",
       "      <td>-7.70555</td>\n",
       "      <td>Dsn.Krajan Dsn.Jambaran Dsn.Kembang Sari Timur...</td>\n",
       "      <td>Nihil</td>\n",
       "      <td>Nihil</td>\n",
       "      <td>Kondisi Muktahir: -Jarak lokasi ke kota 20 Kmâ...</td>\n",
       "    </tr>\n",
       "    <tr>\n",
       "      <th>8</th>\n",
       "      <td>9</td>\n",
       "      <td>Kekeringan</td>\n",
       "      <td>9/17/2013</td>\n",
       "      <td>NaN</td>\n",
       "      <td>108.214</td>\n",
       "      <td>-7.32795</td>\n",
       "      <td>Kab. Tasikmalaya, Provinsi Jawa Barat</td>\n",
       "      <td>Masih dalam pendataan</td>\n",
       "      <td>Masih dalam pendataan</td>\n",
       "      <td>Kronologis : - Disebabkan oleh Musim Kemarau U...</td>\n",
       "    </tr>\n",
       "    <tr>\n",
       "      <th>14</th>\n",
       "      <td>15</td>\n",
       "      <td>Kekeringan</td>\n",
       "      <td>9/2/2013</td>\n",
       "      <td>-</td>\n",
       "      <td>106.551</td>\n",
       "      <td>-6.98727</td>\n",
       "      <td>Kec. Tegal Buleud Ds. Calincing Kp. Puncak Sob...</td>\n",
       "      <td>Korban Jiwa/Terdampak :  Ds. Pagelaran 700 KK...</td>\n",
       "      <td>Kerugian Materil :  Di Kec. Jampang Kulon, Ds...</td>\n",
       "      <td>Kronologis : Kekeringan terjadi pada akhir Agu...</td>\n",
       "    </tr>\n",
       "    <tr>\n",
       "      <th>18</th>\n",
       "      <td>19</td>\n",
       "      <td>Kekeringan</td>\n",
       "      <td>8/31/2013</td>\n",
       "      <td>NaN</td>\n",
       "      <td>109.547</td>\n",
       "      <td>-7.46168</td>\n",
       "      <td>Ds panerusan kulon Ds Panerusan wetan Ds gumel...</td>\n",
       "      <td>Nihil</td>\n",
       "      <td>-Sawah 304 Ha Kering terancam gagal panen -Lad...</td>\n",
       "      <td>Kronologis : -Jumlah desa yang mengalami rawan...</td>\n",
       "    </tr>\n",
       "    <tr>\n",
       "      <th>1</th>\n",
       "      <td>2</td>\n",
       "      <td>Kekeringan</td>\n",
       "      <td>9/23/2013</td>\n",
       "      <td>12.30 WIB</td>\n",
       "      <td>106.842</td>\n",
       "      <td>-6.17332</td>\n",
       "      <td>Jl. Krmat III Dalam RT. 06 / 08 Kel. Kwitang K...</td>\n",
       "      <td>nihil</td>\n",
       "      <td>1 rumah terbakar</td>\n",
       "      <td>Kronologis : - Api berasal dari Korsleting aru...</td>\n",
       "    </tr>\n",
       "  </tbody>\n",
       "</table>\n",
       "</div>"
      ],
      "text/plain": [
       "    No     Bencana    Tanggal        Jam    Bujur   Lintang   \\\n",
       "13   14  Kekeringan   9/5/2013        NaN  113.994  -7.70555   \n",
       "8     9  Kekeringan  9/17/2013        NaN  108.214  -7.32795   \n",
       "14   15  Kekeringan   9/2/2013          -  106.551  -6.98727   \n",
       "18   19  Kekeringan  8/31/2013        NaN  109.547  -7.46168   \n",
       "1     2  Kekeringan  9/23/2013  12.30 WIB  106.842  -6.17332   \n",
       "\n",
       "                                              Lokasi   \\\n",
       "13  Dsn.Krajan Dsn.Jambaran Dsn.Kembang Sari Timur...   \n",
       "8               Kab. Tasikmalaya, Provinsi Jawa Barat   \n",
       "14  Kec. Tegal Buleud Ds. Calincing Kp. Puncak Sob...   \n",
       "18  Ds panerusan kulon Ds Panerusan wetan Ds gumel...   \n",
       "1   Jl. Krmat III Dalam RT. 06 / 08 Kel. Kwitang K...   \n",
       "\n",
       "                                              Korban   \\\n",
       "13                                              Nihil   \n",
       "8                               Masih dalam pendataan   \n",
       "14  Korban Jiwa/Terdampak :  Ds. Pagelaran 700 KK...   \n",
       "18                                              Nihil   \n",
       "1                                               nihil   \n",
       "\n",
       "                                            Kerugian   \\\n",
       "13                                              Nihil   \n",
       "8                               Masih dalam pendataan   \n",
       "14  Kerugian Materil :  Di Kec. Jampang Kulon, Ds...   \n",
       "18  -Sawah 304 Ha Kering terancam gagal panen -Lad...   \n",
       "1                                    1 rumah terbakar   \n",
       "\n",
       "                                          Keterangan   \n",
       "13  Kondisi Muktahir: -Jarak lokasi ke kota 20 Kmâ...  \n",
       "8   Kronologis : - Disebabkan oleh Musim Kemarau U...  \n",
       "14  Kronologis : Kekeringan terjadi pada akhir Agu...  \n",
       "18  Kronologis : -Jumlah desa yang mengalami rawan...  \n",
       "1   Kronologis : - Api berasal dari Korsleting aru...  "
      ]
     },
     "execution_count": 35,
     "metadata": {},
     "output_type": "execute_result"
    }
   ],
   "source": [
    "# data_kekeringan\n",
    "# data_kekeringan.head()\n",
    "data_kekeringan.sample(5)"
   ]
  },
  {
   "cell_type": "code",
   "execution_count": 36,
   "metadata": {},
   "outputs": [
    {
     "data": {
      "text/plain": [
       "Index(['No ', 'Bencana ', 'Tanggal ', 'Jam ', 'Bujur ', 'Lintang ', 'Lokasi ',\n",
       "       'Korban ', 'Kerugian ', 'Keterangan '],\n",
       "      dtype='object')"
      ]
     },
     "execution_count": 36,
     "metadata": {},
     "output_type": "execute_result"
    }
   ],
   "source": [
    "data_kekeringan.columns"
   ]
  },
  {
   "cell_type": "code",
   "execution_count": 37,
   "metadata": {},
   "outputs": [
    {
     "data": {
      "text/html": [
       "<div>\n",
       "<style scoped>\n",
       "    .dataframe tbody tr th:only-of-type {\n",
       "        vertical-align: middle;\n",
       "    }\n",
       "\n",
       "    .dataframe tbody tr th {\n",
       "        vertical-align: top;\n",
       "    }\n",
       "\n",
       "    .dataframe thead th {\n",
       "        text-align: right;\n",
       "    }\n",
       "</style>\n",
       "<table border=\"1\" class=\"dataframe\">\n",
       "  <thead>\n",
       "    <tr style=\"text-align: right;\">\n",
       "      <th></th>\n",
       "      <th>Bencana</th>\n",
       "      <th>Lokasi</th>\n",
       "    </tr>\n",
       "  </thead>\n",
       "  <tbody>\n",
       "    <tr>\n",
       "      <th>0</th>\n",
       "      <td>Kekeringan</td>\n",
       "      <td>Kampung Laut Kawungaten Kedungmangu Gadingreja...</td>\n",
       "    </tr>\n",
       "    <tr>\n",
       "      <th>1</th>\n",
       "      <td>Kekeringan</td>\n",
       "      <td>Jl. Krmat III Dalam RT. 06 / 08 Kel. Kwitang K...</td>\n",
       "    </tr>\n",
       "    <tr>\n",
       "      <th>2</th>\n",
       "      <td>Kekeringan</td>\n",
       "      <td>Jl. Cibubur, Blok Dukuh, No. 6 RT. 02 / 10 Kel...</td>\n",
       "    </tr>\n",
       "    <tr>\n",
       "      <th>3</th>\n",
       "      <td>Kekeringan</td>\n",
       "      <td>Jl. Kebon Tebu RT. 019 / 17 Kel. Muara Baru Ke...</td>\n",
       "    </tr>\n",
       "    <tr>\n",
       "      <th>4</th>\n",
       "      <td>Kekeringan</td>\n",
       "      <td>Provinsi Jawa Barat Kota Cirebon Kec. Harjamuk...</td>\n",
       "    </tr>\n",
       "    <tr>\n",
       "      <th>5</th>\n",
       "      <td>Kekeringan</td>\n",
       "      <td>Ds. Bujur Barat Ds. Bujur Timur Ds. Ponjanan B...</td>\n",
       "    </tr>\n",
       "    <tr>\n",
       "      <th>6</th>\n",
       "      <td>Kekeringan</td>\n",
       "      <td>Ds. Sruwi Ds. Sumberejo Kec. Winongan Ds. Kara...</td>\n",
       "    </tr>\n",
       "    <tr>\n",
       "      <th>7</th>\n",
       "      <td>Kekeringan</td>\n",
       "      <td>Ds. Sruwi Ds. Sumberejo Kec. Winongan Ds. Kara...</td>\n",
       "    </tr>\n",
       "    <tr>\n",
       "      <th>8</th>\n",
       "      <td>Kekeringan</td>\n",
       "      <td>Kab. Tasikmalaya, Provinsi Jawa Barat</td>\n",
       "    </tr>\n",
       "    <tr>\n",
       "      <th>9</th>\n",
       "      <td>Kekeringan</td>\n",
       "      <td>Provinsi Jawa Barat Kab. Bandung Barat Kec Lem...</td>\n",
       "    </tr>\n",
       "    <tr>\n",
       "      <th>10</th>\n",
       "      <td>Kekeringan</td>\n",
       "      <td>Provinsi Jawa Barat Kab. Ciamis</td>\n",
       "    </tr>\n",
       "    <tr>\n",
       "      <th>11</th>\n",
       "      <td>Kekeringan</td>\n",
       "      <td>(83 Desa dalam pendataan) Kec. Kebumen Kec. Ka...</td>\n",
       "    </tr>\n",
       "    <tr>\n",
       "      <th>12</th>\n",
       "      <td>Kekeringan</td>\n",
       "      <td>Provinsi Jawa Barat Kab. Bandung Kec. Bojong S...</td>\n",
       "    </tr>\n",
       "    <tr>\n",
       "      <th>13</th>\n",
       "      <td>Kekeringan</td>\n",
       "      <td>Dsn.Krajan Dsn.Jambaran Dsn.Kembang Sari Timur...</td>\n",
       "    </tr>\n",
       "    <tr>\n",
       "      <th>14</th>\n",
       "      <td>Kekeringan</td>\n",
       "      <td>Kec. Tegal Buleud Ds. Calincing Kp. Puncak Sob...</td>\n",
       "    </tr>\n",
       "    <tr>\n",
       "      <th>15</th>\n",
       "      <td>Kekeringan</td>\n",
       "      <td>Kec. Nglegok Ds. Sumber Sari Kec. Panggung Rej...</td>\n",
       "    </tr>\n",
       "    <tr>\n",
       "      <th>16</th>\n",
       "      <td>Kekeringan</td>\n",
       "      <td>Ds. Kamal Ds. Pamulihan Kec. Larangan Ds. Peng...</td>\n",
       "    </tr>\n",
       "    <tr>\n",
       "      <th>17</th>\n",
       "      <td>Kekeringan</td>\n",
       "      <td>Kec. Bagelen Kec. Purworejo Kec. Gerabak Kec. ...</td>\n",
       "    </tr>\n",
       "    <tr>\n",
       "      <th>18</th>\n",
       "      <td>Kekeringan</td>\n",
       "      <td>Ds panerusan kulon Ds Panerusan wetan Ds gumel...</td>\n",
       "    </tr>\n",
       "    <tr>\n",
       "      <th>19</th>\n",
       "      <td>Kekeringan</td>\n",
       "      <td>Kec. Ayah Kec. Buayan Kec. Rowokele Kec. Sempo...</td>\n",
       "    </tr>\n",
       "    <tr>\n",
       "      <th>20</th>\n",
       "      <td>Kekeringan</td>\n",
       "      <td>Kec. Simpang Empat, Kab. Banjar, Prov. Kaliman...</td>\n",
       "    </tr>\n",
       "    <tr>\n",
       "      <th>21</th>\n",
       "      <td>Kekeringan</td>\n",
       "      <td>Kab. Probolinggo, Prov. Jawa Timur</td>\n",
       "    </tr>\n",
       "    <tr>\n",
       "      <th>22</th>\n",
       "      <td>Kekeringan</td>\n",
       "      <td>Kec. Gempol dan Lumbang, Kab. Pasuruan, Prov. ...</td>\n",
       "    </tr>\n",
       "  </tbody>\n",
       "</table>\n",
       "</div>"
      ],
      "text/plain": [
       "      Bencana                                             Lokasi \n",
       "0   Kekeringan  Kampung Laut Kawungaten Kedungmangu Gadingreja...\n",
       "1   Kekeringan  Jl. Krmat III Dalam RT. 06 / 08 Kel. Kwitang K...\n",
       "2   Kekeringan  Jl. Cibubur, Blok Dukuh, No. 6 RT. 02 / 10 Kel...\n",
       "3   Kekeringan  Jl. Kebon Tebu RT. 019 / 17 Kel. Muara Baru Ke...\n",
       "4   Kekeringan  Provinsi Jawa Barat Kota Cirebon Kec. Harjamuk...\n",
       "5   Kekeringan  Ds. Bujur Barat Ds. Bujur Timur Ds. Ponjanan B...\n",
       "6   Kekeringan  Ds. Sruwi Ds. Sumberejo Kec. Winongan Ds. Kara...\n",
       "7   Kekeringan  Ds. Sruwi Ds. Sumberejo Kec. Winongan Ds. Kara...\n",
       "8   Kekeringan              Kab. Tasikmalaya, Provinsi Jawa Barat\n",
       "9   Kekeringan  Provinsi Jawa Barat Kab. Bandung Barat Kec Lem...\n",
       "10  Kekeringan                    Provinsi Jawa Barat Kab. Ciamis\n",
       "11  Kekeringan  (83 Desa dalam pendataan) Kec. Kebumen Kec. Ka...\n",
       "12  Kekeringan  Provinsi Jawa Barat Kab. Bandung Kec. Bojong S...\n",
       "13  Kekeringan  Dsn.Krajan Dsn.Jambaran Dsn.Kembang Sari Timur...\n",
       "14  Kekeringan  Kec. Tegal Buleud Ds. Calincing Kp. Puncak Sob...\n",
       "15  Kekeringan  Kec. Nglegok Ds. Sumber Sari Kec. Panggung Rej...\n",
       "16  Kekeringan  Ds. Kamal Ds. Pamulihan Kec. Larangan Ds. Peng...\n",
       "17  Kekeringan  Kec. Bagelen Kec. Purworejo Kec. Gerabak Kec. ...\n",
       "18  Kekeringan  Ds panerusan kulon Ds Panerusan wetan Ds gumel...\n",
       "19  Kekeringan  Kec. Ayah Kec. Buayan Kec. Rowokele Kec. Sempo...\n",
       "20  Kekeringan  Kec. Simpang Empat, Kab. Banjar, Prov. Kaliman...\n",
       "21  Kekeringan                 Kab. Probolinggo, Prov. Jawa Timur\n",
       "22  Kekeringan  Kec. Gempol dan Lumbang, Kab. Pasuruan, Prov. ..."
      ]
     },
     "execution_count": 37,
     "metadata": {},
     "output_type": "execute_result"
    }
   ],
   "source": [
    "data_kekeringan[['Bencana ','Lokasi ']]"
   ]
  },
  {
   "cell_type": "code",
   "execution_count": 53,
   "metadata": {},
   "outputs": [
    {
     "data": {
      "text/html": [
       "<div>\n",
       "<style scoped>\n",
       "    .dataframe tbody tr th:only-of-type {\n",
       "        vertical-align: middle;\n",
       "    }\n",
       "\n",
       "    .dataframe tbody tr th {\n",
       "        vertical-align: top;\n",
       "    }\n",
       "\n",
       "    .dataframe thead th {\n",
       "        text-align: right;\n",
       "    }\n",
       "</style>\n",
       "<table border=\"1\" class=\"dataframe\">\n",
       "  <thead>\n",
       "    <tr style=\"text-align: right;\">\n",
       "      <th></th>\n",
       "      <th>Bencana</th>\n",
       "      <th>Lokasi</th>\n",
       "    </tr>\n",
       "  </thead>\n",
       "  <tbody>\n",
       "    <tr>\n",
       "      <th>0</th>\n",
       "      <td>Kekeringan</td>\n",
       "      <td>Kampung Laut Kawungaten Kedungmangu Gadingreja...</td>\n",
       "    </tr>\n",
       "    <tr>\n",
       "      <th>1</th>\n",
       "      <td>Kekeringan</td>\n",
       "      <td>Jl. Krmat III Dalam RT. 06 / 08 Kel. Kwitang K...</td>\n",
       "    </tr>\n",
       "  </tbody>\n",
       "</table>\n",
       "</div>"
      ],
      "text/plain": [
       "     Bencana                                             Lokasi \n",
       "0  Kekeringan  Kampung Laut Kawungaten Kedungmangu Gadingreja...\n",
       "1  Kekeringan  Jl. Krmat III Dalam RT. 06 / 08 Kel. Kwitang K..."
      ]
     },
     "execution_count": 53,
     "metadata": {},
     "output_type": "execute_result"
    }
   ],
   "source": [
    "data_kekeringan[['Bencana ','Lokasi ']].head(2)"
   ]
  },
  {
   "cell_type": "code",
   "execution_count": 54,
   "metadata": {},
   "outputs": [],
   "source": [
    "data_pangan = pd.read_csv('jumlah-usaha-pertanian-per-provinsi-per-usaha-2003-2013.csv', delimiter = ',', encoding = \"utf-8\")"
   ]
  },
  {
   "cell_type": "code",
   "execution_count": 55,
   "metadata": {},
   "outputs": [
    {
     "data": {
      "text/plain": [
       "kode_provinsi    165\n",
       "nama_provinsi    170\n",
       "bentuk_usaha     170\n",
       "tahun            170\n",
       "jumlah           169\n",
       "dtype: int64"
      ]
     },
     "execution_count": 55,
     "metadata": {},
     "output_type": "execute_result"
    }
   ],
   "source": [
    "data_pangan.count()"
   ]
  },
  {
   "cell_type": "code",
   "execution_count": 56,
   "metadata": {},
   "outputs": [
    {
     "data": {
      "text/plain": [
       "Index(['kode_provinsi', 'nama_provinsi', 'bentuk_usaha', 'tahun', 'jumlah'], dtype='object')"
      ]
     },
     "execution_count": 56,
     "metadata": {},
     "output_type": "execute_result"
    }
   ],
   "source": [
    "data_pangan.columns"
   ]
  },
  {
   "cell_type": "code",
   "execution_count": null,
   "metadata": {},
   "outputs": [],
   "source": []
  }
 ],
 "metadata": {
  "kernelspec": {
   "display_name": "Python 3",
   "language": "python",
   "name": "python3"
  },
  "language_info": {
   "codemirror_mode": {
    "name": "ipython",
    "version": 3
   },
   "file_extension": ".py",
   "mimetype": "text/x-python",
   "name": "python",
   "nbconvert_exporter": "python",
   "pygments_lexer": "ipython3",
   "version": "3.7.0"
  }
 },
 "nbformat": 4,
 "nbformat_minor": 2
}
