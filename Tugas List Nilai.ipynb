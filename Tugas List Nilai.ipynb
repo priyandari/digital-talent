{
 "cells": [
  {
   "cell_type": "code",
   "execution_count": 41,
   "metadata": {},
   "outputs": [
    {
     "name": "stdout",
     "output_type": "stream",
     "text": [
      "[60, 21, 70, 51, 57, 86, 14, 71, 91, 68, 6, 31, 32, 71, 85, 73, 64, 24, 74, 41, 93, 82, 64, 80, 43, 58, 60, 40, 47, 60, 64, 48, 14, 51, 17, 83, 49, 35, 93, 58, 16, 25, 69, 83, 59, 41, 80, 1, 51, 20, 47, 38, 80, 65, 35, 15, 36, 9, 22, 61, 27, 38, 60, 45, 64, 89, 73, 4, 66, 11, 59, 24, 53, 95, 10, 77, 95, 69, 67, 64, 19, 37, 3, 92, 63, 28, 39, 72, 10, 39, 26, 27, 71, 69, 29, 43, 93, 81, 29, 94, 12, 85, 57, 4, 3, 55, 57, 76, 97, 45, 15, 51, 6, 69, 41, 51, 63, 39, 33, 79, 7, 23, 2, 59, 37, 59, 62, 19, 47, 95, 40, 12, 99, 99, 56, 64, 69, 31, 49, 30, 91, 58, 74, 84, 66, 55, 53, 63, 79, 98, 39, 74, 39, 73, 68, 91, 60, 8, 2, 54, 96, 85, 64, 85, 91, 65, 37, 38, 79, 10, 40, 18, 47, 32, 54, 60, 36, 5, 42, 23, 94, 6, 96, 93, 44, 65, 33, 65, 52, 74, 41, 67, 15, 13, 35, 70, 63, 63, 96, 49, 55, 1, 46, 64, 92, 77, 55, 87, 94, 63, 84, 75, 37, 54, 7, 39, 20, 6, 90, 85, 34, 9, 24, 73, 66, 62, 98, 16, 30, 42, 93, 78, 11, 49, 13, 93, 9, 83, 53, 43, 65, 71, 20, 85, 34, 82, 1, 16, 29, 31]\n"
     ]
    }
   ],
   "source": [
    "import random\n",
    "\n",
    "nilaiTugas = []\n",
    "for i in range(250):\n",
    "    nilaiTugas.append(random.randrange(1,100,1))\n",
    "    #nilaiTugas.append(random.randint(1,100))  #bisa juga menggunakan ini\n",
    "\n",
    "print(nilaiTugas)"
   ]
  },
  {
   "cell_type": "markdown",
   "metadata": {},
   "source": [
    "### Menampilkan nilai tugas yang ganjil"
   ]
  },
  {
   "cell_type": "code",
   "execution_count": 30,
   "metadata": {},
   "outputs": [
    {
     "name": "stdout",
     "output_type": "stream",
     "text": [
      "[55, 75, 79, 5, 61, 33, 93, 11, 23, 9, 21, 75, 15, 97, 19, 61, 35, 57, 21, 21, 21, 87, 87, 53, 39, 31, 87, 59, 13, 93, 39, 47, 47, 77, 23, 7, 71, 11, 45, 23, 41, 87, 3, 25, 47, 87, 61, 25, 23, 59, 75, 27, 31, 91, 49, 51, 73, 49, 81, 37, 41, 69, 27, 69, 81, 63, 69, 85, 91, 93, 99, 27, 15, 99, 69, 35, 39, 71, 39, 69, 19, 61, 11, 25, 69, 31, 11, 85, 71, 65, 33, 87, 7, 17, 17, 41, 77, 33, 9, 63, 41, 55, 19, 47, 1, 89, 7, 83, 97, 73, 45, 77, 23, 89, 7, 99, 67, 5, 27, 23, 85, 9, 11, 1, 3, 51, 11, 13, 33, 85, 41, 97, 77, 85, 77]\n"
     ]
    }
   ],
   "source": [
    "nilaiTugas_ganjil = []\n",
    "for n in nilaiTugas:\n",
    "    if (n % 2) == 1:\n",
    "        nilaiTugas_ganjil.append(n)\n",
    "        \n",
    "print(nilaiTugas_ganjil)"
   ]
  },
  {
   "cell_type": "markdown",
   "metadata": {},
   "source": [
    "### nilai > 70"
   ]
  },
  {
   "cell_type": "code",
   "execution_count": null,
   "metadata": {},
   "outputs": [],
   "source": [
    "for n in nilaiTugas:\n",
    "    if n>70:\n",
    "        print(n)"
   ]
  },
  {
   "cell_type": "markdown",
   "metadata": {},
   "source": [
    "### Standar deviasi"
   ]
  },
  {
   "cell_type": "code",
   "execution_count": 27,
   "metadata": {},
   "outputs": [
    {
     "name": "stdout",
     "output_type": "stream",
     "text": [
      "51.132\n",
      "1.3156745962026278e-06\n"
     ]
    }
   ],
   "source": [
    "totalNilai = 0\n",
    "for n in nilaiTugas:\n",
    "    totalNilai = totalNilai+n\n",
    "\n",
    "rerata = totalNilai / len(nilaiTugas)\n",
    "print(rerata)\n",
    "\n",
    "sigma_kuadrat = 0\n",
    "for n in nilaiTugas: \n",
    "    sigma_kuadrat = sigma_kuadrat + ((n-rerata)**2)\n",
    "\n",
    "st_deviasi = pow(sigma_kuadrat / (len(nilaiTugas)-1), -2)\n",
    "print(st_deviasi)"
   ]
  },
  {
   "cell_type": "markdown",
   "metadata": {},
   "source": [
    "### Maksimum"
   ]
  },
  {
   "cell_type": "code",
   "execution_count": 26,
   "metadata": {},
   "outputs": [
    {
     "name": "stdout",
     "output_type": "stream",
     "text": [
      "99\n"
     ]
    }
   ],
   "source": [
    "maks = 0\n",
    "for n in nilaiTugas:\n",
    "    if n > maks:\n",
    "        maks = n\n",
    "\n",
    "print(maks)"
   ]
  },
  {
   "cell_type": "markdown",
   "metadata": {},
   "source": [
    "### Minimum"
   ]
  },
  {
   "cell_type": "code",
   "execution_count": 25,
   "metadata": {},
   "outputs": [
    {
     "name": "stdout",
     "output_type": "stream",
     "text": [
      "1\n"
     ]
    }
   ],
   "source": [
    "min = 100\n",
    "for n in nilaiTugas:\n",
    "    if n < min:\n",
    "        min = n\n",
    "print(min)"
   ]
  },
  {
   "cell_type": "markdown",
   "metadata": {},
   "source": [
    "### Modus, dan Frekuensi Data"
   ]
  },
  {
   "cell_type": "code",
   "execution_count": 60,
   "metadata": {},
   "outputs": [
    {
     "name": "stdout",
     "output_type": "stream",
     "text": [
      "====MODUS===\n",
      "64 Sebanyak :  7\n",
      "==== Data Frekuensi dan Modus ===\n",
      "{1: 3, 2: 1, 3: 1, 4: 1, 6: 4, 7: 1, 9: 3, 10: 2, 11: 1, 12: 1, 13: 1, 14: 1, 15: 2, 16: 2, 18: 1, 19: 1, 20: 2, 22: 1, 23: 1, 24: 2, 26: 1, 27: 1, 29: 3, 30: 1, 31: 2, 32: 1, 33: 1, 34: 1, 35: 2, 36: 1, 37: 3, 38: 2, 39: 5, 40: 2, 41: 3, 42: 1, 43: 2, 45: 2, 47: 4, 49: 4, 51: 4, 53: 3, 54: 2, 55: 3, 57: 3, 58: 2, 59: 3, 60: 5, 62: 2, 63: 5, 64: 7, 65: 4, 66: 2, 67: 1, 68: 1, 69: 4, 70: 1, 71: 3, 73: 4, 74: 3, 76: 1, 77: 1, 79: 3, 80: 2, 82: 2, 83: 2, 84: 1, 85: 5, 87: 1, 90: 1, 91: 3, 92: 1, 93: 5, 94: 2, 95: 2, 96: 2, 98: 2, 99: 1}\n",
      "Angka Modus : 64 Sebanyak :  7\n"
     ]
    }
   ],
   "source": [
    "# Pengurutan terlebih dahulu\n",
    "nilaiTugas_terurut = [] \n",
    "nilaiTugas_terurut = nilaiTugas\n",
    "#print(nilaiTugas_terurut)\n",
    "\n",
    "for i in range(0, len(nilaiTugas_terurut)-1):\n",
    "    for j in range(i, len(nilaiTugas_terurut)):\n",
    "        if nilaiTugas_terurut[j] < nilaiTugas_terurut[i]:\n",
    "            temp = nilaiTugas_terurut[i]\n",
    "            nilaiTugas_terurut[i] = nilaiTugas_terurut[j]\n",
    "            nilaiTugas_terurut[j] = temp\n",
    "\n",
    "#print(nilaiTugas_terurut)\n",
    "\n",
    "## Menentukan Modus\n",
    "frekmodus = 0\n",
    "i=0\n",
    "while i < len(nilaiTugas):\n",
    "    calonModus = nilaiTugas_terurut[i]\n",
    "    frekCalonModus = 1\n",
    "    i=i+1\n",
    "    angkasama = True\n",
    "    while angkasama and (i < len(nilaiTugas)):\n",
    "        if nilaiTugas_terurut[i] == calonModus:\n",
    "            frekCalonModus = frekCalonModus + 1\n",
    "            angkasama = True\n",
    "        else:\n",
    "            angkasama = False\n",
    "        i = i+1\n",
    "        \n",
    "    if frekCalonModus > frekmodus:\n",
    "        Hmodus = calonModus\n",
    "        frekmodus = frekCalonModus\n",
    "\n",
    "print(\"====MODUS===\")\n",
    "print(Hmodus, \"Sebanyak : \", frekmodus)\n",
    "\n",
    "## Menghitung Frekuensi data dan Modus \n",
    "datafrekuensi = {}\n",
    "frekmodus = 0\n",
    "i=0\n",
    "while i < len(nilaiTugas):\n",
    "    calonModus = nilaiTugas_terurut[i]\n",
    "    datafrekuensi[calonModus] = 1\n",
    "    frekCalonModus = 1\n",
    "    i=i+1\n",
    "    angkasama = True\n",
    "    while angkasama and (i < len(nilaiTugas)):\n",
    "        if nilaiTugas_terurut[i] == calonModus:\n",
    "            frekCalonModus = frekCalonModus + 1\n",
    "            datafrekuensi[calonModus] = frekCalonModus\n",
    "            angkasama = True\n",
    "        else:\n",
    "            angkasama = False\n",
    "        i = i+1\n",
    "        \n",
    "    if frekCalonModus > frekmodus:\n",
    "        Hmodus = calonModus\n",
    "        frekmodus = frekCalonModus\n",
    "\n",
    "print(\"==== Data Frekuensi dan Modus ===\")\n",
    "print(datafrekuensi)\n",
    "print(\"Angka Modus :\",Hmodus, \"Sebanyak : \", frekmodus)\n"
   ]
  },
  {
   "cell_type": "code",
   "execution_count": null,
   "metadata": {},
   "outputs": [],
   "source": []
  }
 ],
 "metadata": {
  "kernelspec": {
   "display_name": "Python 3",
   "language": "python",
   "name": "python3"
  },
  "language_info": {
   "codemirror_mode": {
    "name": "ipython",
    "version": 3
   },
   "file_extension": ".py",
   "mimetype": "text/x-python",
   "name": "python",
   "nbconvert_exporter": "python",
   "pygments_lexer": "ipython3",
   "version": "3.7.0"
  }
 },
 "nbformat": 4,
 "nbformat_minor": 2
}
