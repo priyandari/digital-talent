{
 "cells": [
  {
   "cell_type": "markdown",
   "metadata": {},
   "source": [
    "# Body Mass Index (BMI)\n"
   ]
  },
  {
   "cell_type": "code",
   "execution_count": 3,
   "metadata": {},
   "outputs": [
    {
     "name": "stdout",
     "output_type": "stream",
     "text": [
      "Nilai BMI :  23.588329220496444\n"
     ]
    }
   ],
   "source": [
    "berat_badan = 65.0  #dalam KG\n",
    "tinggi_badan = 166.0 #dalam CM\n",
    "tinggi_badan_m = tinggi_badan /100\n",
    "\n",
    "bmi = berat_badan / (tinggi_badan_m*tinggi_badan_m)\n",
    "print(\"Nilai BMI : \", bmi)"
   ]
  },
  {
   "cell_type": "code",
   "execution_count": 4,
   "metadata": {},
   "outputs": [
    {
     "name": "stdout",
     "output_type": "stream",
     "text": [
      "Kategori BMI Anda :  Normal (healthy weight)\n",
      "Program Selesai\n"
     ]
    }
   ],
   "source": [
    "if bmi<15:\n",
    "    print(\"Kategori BMI Anda : \", \"Very severely underweight\")\n",
    "elif bmi<16:\n",
    "    print(\"Kategori BMI Anda : \", \"Severely underweight\")\n",
    "elif bmi<18.5:\n",
    "    print(\"Kategori BMI Anda : \", \"Underweight\")\n",
    "elif bmi<25:\n",
    "    print(\"Kategori BMI Anda : \", \"Normal (healthy weight)\")\n",
    "elif bmi<30:\n",
    "    print(\"Kategori BMI Anda : \", \"Overweight\")\n",
    "elif bmi<35:\n",
    "    print(\"Kategori BMI Anda : \", \"Moderately obese\")\n",
    "elif bmi<40:\n",
    "    print(\"Kategori BMI Anda : \", \"Severely obese\")\n",
    "else:\n",
    "    print(\"Kategori BMI Anda : \", \"Very severely obese\")\n",
    "\n",
    "print(\"Program Selesai\")"
   ]
  },
  {
   "cell_type": "code",
   "execution_count": null,
   "metadata": {},
   "outputs": [],
   "source": []
  }
 ],
 "metadata": {
  "kernelspec": {
   "display_name": "Python 3",
   "language": "python",
   "name": "python3"
  },
  "language_info": {
   "codemirror_mode": {
    "name": "ipython",
    "version": 3
   },
   "file_extension": ".py",
   "mimetype": "text/x-python",
   "name": "python",
   "nbconvert_exporter": "python",
   "pygments_lexer": "ipython3",
   "version": "3.7.0"
  }
 },
 "nbformat": 4,
 "nbformat_minor": 2
}
