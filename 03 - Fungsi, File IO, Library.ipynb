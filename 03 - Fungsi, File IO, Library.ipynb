{
 "cells": [
  {
   "cell_type": "markdown",
   "metadata": {},
   "source": [
    "# 1. Fungsi / Subprogram\n",
    "Fungsi / Subprogram digunakan untuk mengelompokkan beberapa syntaks dalam satu group statement. Pada umumnya kelompok statement ini sering dikerjakan berulang kali. Ketika program kita sudah cukup besar, fungsi dapat digunakan untuk mem breakdown potongan-potongan kode agar menjadi beberapa kesatuan kecil.\n",
    "\n",
    "## 1.1 Deklarasi Fungsi\n",
    "Berikut diberikan contoh untuk mendeklarasikan fungsi bernama hello, yang menerima parameter berupa bilangan n. Tujuan dari fungsi ini akan mengoutputkan kata \"hello\" sebanyak n kali"
   ]
  },
  {
   "cell_type": "code",
   "execution_count": null,
   "metadata": {},
   "outputs": [],
   "source": [
    "def hello(n):\n",
    "    for i in range(n):\n",
    "        print(\"hello\")"
   ]
  },
  {
   "cell_type": "markdown",
   "metadata": {},
   "source": [
    "## 1.2 Pemanggilan Fungsi"
   ]
  },
  {
   "cell_type": "code",
   "execution_count": null,
   "metadata": {},
   "outputs": [],
   "source": [
    "hello(10)"
   ]
  },
  {
   "cell_type": "markdown",
   "metadata": {},
   "source": [
    "## 1.3 Fungsi yang Mengirimkan Kembalian Nilai\n",
    "Dalam contoh fungsi yang pertama, fungsi tersebut hanya menjalankan sebuah perintah. Namun fungsi juga seringkali digunakan untuk melakukan perhitungan dan kemudian nilainya dipergunakan dalam proses selanjutnya. seperti contoh berikut:"
   ]
  },
  {
   "cell_type": "code",
   "execution_count": null,
   "metadata": {},
   "outputs": [],
   "source": [
    "def faktorial(n):\n",
    "    i = 1\n",
    "    result = 1\n",
    "    while i<n:\n",
    "        result = result * n\n",
    "        n = n - 1\n",
    "\n",
    "    return result"
   ]
  },
  {
   "cell_type": "code",
   "execution_count": null,
   "metadata": {},
   "outputs": [],
   "source": [
    "hasil = faktorial(2) * faktorial(3)\n",
    "print(hasil)\n",
    "\n",
    "hasil = faktorial(5)\n",
    "print(hasil)"
   ]
  },
  {
   "cell_type": "markdown",
   "metadata": {},
   "source": [
    "# 2. FILE INPUT OUTPUT\n",
    "Seringkali kita ingin menyimpan hasil output dari program ke dalam sebuah File, ataupun membaca data yang ada dari file. Python menyediakan fungsi untuk hal ini\n",
    "\n",
    "# 2.1 Menulis ke File\n",
    "Dalam penulisan ke file, awalnya kita harus membuat / membuka sebuah file dengan mode 'w' atau write. Kemudian kita bisa memasukkan teks ke dalam file tersebut. Setelah selesai menulis, kita bisa close file tersebut. Kalian bisa mengeceknya dalam folder yang sama dengan ipynb ini, apakah file sudah terbuat"
   ]
  },
  {
   "cell_type": "code",
   "execution_count": null,
   "metadata": {},
   "outputs": [],
   "source": [
    "f = open('data.txt','w')\n",
    "f.write('Hello World! \\n')\n",
    "f.write(\"This is our new text file \\n\") \n",
    "f.write(\"and this is another line \\n\") \n",
    "f.write(\"Why? Because we can\") \n",
    "f.close()"
   ]
  },
  {
   "cell_type": "markdown",
   "metadata": {},
   "source": [
    "## 2.2 Membaca dari File "
   ]
  },
  {
   "cell_type": "code",
   "execution_count": null,
   "metadata": {},
   "outputs": [],
   "source": [
    "fo = open('data.txt','r')\n",
    "print(fo.read())\n",
    "fo.close()"
   ]
  },
  {
   "cell_type": "code",
   "execution_count": null,
   "metadata": {},
   "outputs": [],
   "source": [
    "fo = open('data.txt','r')\n",
    "for i in fo:\n",
    "    print(i)\n",
    "fo.close()"
   ]
  },
  {
   "cell_type": "markdown",
   "metadata": {},
   "source": [
    "# 3. Import"
   ]
  },
  {
   "cell_type": "markdown",
   "metadata": {},
   "source": [
    "Seringkali kita tidak perlu melakukan implementasi ulang terhadap banyak kasus seperti analisa statistik sederhana, melakukan random, fungsi matematika sederhana sampai yang kompleks, dan lain sebagainya. Kita bisa menggunakan module / library yang telah disediakan oleh python ataupun library yang telah dibuat oleh orang"
   ]
  },
  {
   "cell_type": "markdown",
   "metadata": {},
   "source": [
    "## 3.1 Modul Random"
   ]
  },
  {
   "cell_type": "code",
   "execution_count": null,
   "metadata": {},
   "outputs": [],
   "source": [
    "import random\n",
    "r = random.random()\n",
    "print(r)\n",
    "r = random.randint(1,10)\n",
    "print(r)"
   ]
  },
  {
   "cell_type": "markdown",
   "metadata": {},
   "source": [
    "## 3.2 Modul Statistics"
   ]
  },
  {
   "cell_type": "code",
   "execution_count": null,
   "metadata": {},
   "outputs": [],
   "source": [
    "import statistics\n",
    "\n",
    "a = [0, 1, 1, 3, 4, 9, 15]\n",
    "\n",
    "b = statistics.mean(a)\n",
    "c = statistics.median(a)\n",
    "d = statistics.mode(a)\n",
    "e = statistics.stdev(a)\n",
    "f = statistics.variance(a)\n",
    "\n",
    "print(b,c,d,e,f)"
   ]
  },
  {
   "cell_type": "markdown",
   "metadata": {},
   "source": [
    "## 3.3 Modul Math"
   ]
  },
  {
   "cell_type": "code",
   "execution_count": null,
   "metadata": {},
   "outputs": [],
   "source": [
    "import math\n",
    "\n",
    "a = math.factorial(5)\n",
    "b = math.pi\n",
    "c = math.sqrt(5)\n",
    "d = math.log(256, 2)\n",
    "\n",
    "print(a,b,c,d)"
   ]
  },
  {
   "cell_type": "markdown",
   "metadata": {},
   "source": [
    "## 3.4 Modul CSV"
   ]
  },
  {
   "cell_type": "code",
   "execution_count": null,
   "metadata": {},
   "outputs": [],
   "source": [
    "import csv\n",
    "\n",
    "with open('data-bencana-kekeringan-2012-2013.csv') as csvfile:\n",
    "    my_csv_file = csv.reader(csvfile, delimiter=',',quotechar=\"'\")\n",
    "    for row in my_csv_file:\n",
    "        print(row)"
   ]
  },
  {
   "cell_type": "markdown",
   "metadata": {},
   "source": [
    "# 4. Numpy\n",
    "Numpy memiliki kegunaan untuk operasi vektor dan matriks. Fiturnya hampir sama dengan MATLAB dalam mengelola array dan array multidimensi. "
   ]
  },
  {
   "cell_type": "markdown",
   "metadata": {},
   "source": [
    "## 4.1 Numpy Array"
   ]
  },
  {
   "cell_type": "code",
   "execution_count": null,
   "metadata": {},
   "outputs": [],
   "source": [
    "import numpy as np\n",
    "\n",
    "a = np.array([1, 2, 3])   \n",
    "print(a)\n",
    "print(type(a))            \n",
    "print(a.shape)            \n",
    "print(a[0], a[1], a[2])   \n",
    "a[0] = 5                  \n",
    "print(a)                  \n",
    "\n",
    "b = np.array([[1,2,3],[4,5,6]])    \n",
    "print(b)\n",
    "print(b.shape)                     \n",
    "print(b[0, 0], b[0, 1], b[1, 0])   "
   ]
  },
  {
   "cell_type": "markdown",
   "metadata": {},
   "source": [
    "## 4.2 Buat Array"
   ]
  },
  {
   "cell_type": "code",
   "execution_count": null,
   "metadata": {},
   "outputs": [],
   "source": [
    "a = np.zeros((2,2))   \n",
    "print(a)             \n",
    "                      \n",
    "\n",
    "b = np.ones((1,2))    \n",
    "print(b)              \n",
    "\n",
    "c = np.full((2,2), 7)  \n",
    "print(c)               \n",
    "                      \n",
    "\n",
    "d = np.eye(2)        \n",
    "print(d)             \n",
    "                     \n",
    "\n",
    "e = np.random.random((2,2))  \n",
    "print(e)                     \n",
    "                             "
   ]
  },
  {
   "cell_type": "markdown",
   "metadata": {},
   "source": [
    "## 4.3 Indexing"
   ]
  },
  {
   "cell_type": "code",
   "execution_count": null,
   "metadata": {},
   "outputs": [],
   "source": [
    "import numpy as np\n",
    "\n",
    "a = np.array([[1,2,3,4], [5,6,7,8], [9,10,11,12]])\n",
    "print(a)\n",
    "b = a[:2, 1:3]\n",
    "print(b)\n",
    "print(a[0, 1])   \n",
    "b[0, 0] = 77     \n",
    "print(a[0, 1])  "
   ]
  },
  {
   "cell_type": "markdown",
   "metadata": {},
   "source": [
    "## 4.4 Operasi Matematika"
   ]
  },
  {
   "cell_type": "code",
   "execution_count": null,
   "metadata": {},
   "outputs": [],
   "source": [
    "import numpy as np\n",
    "\n",
    "x = np.array([[1,2],[3,4]], dtype=np.float64)\n",
    "y = np.array([[5,6],[7,8]], dtype=np.float64)\n",
    "\n",
    "print(x + y)\n",
    "print(np.add(x, y))\n",
    "\n",
    "print(x - y)\n",
    "print(np.subtract(x, y))\n",
    "\n",
    "print(x * y)\n",
    "print(np.multiply(x, y))\n",
    "\n",
    "\n",
    "print(x / y)\n",
    "print(np.divide(x, y))\n",
    "\n",
    "print(np.sqrt(x))"
   ]
  },
  {
   "cell_type": "markdown",
   "metadata": {},
   "source": [
    "## 5. Pandas\n",
    "Dengan menggunakan sistem dataframe, kita dapat memuat sebuah file ke dalam tabel virtual ala spreadsheet dengan menggunakan Pandas. Dengan menggunakan Pandas, kita dapat mengolah suatu data dan mengolahnya seperti join, distinct, group by, agregasi, dan teknik seperti pada SQL. Hanya saja dilakukan pada tabel yang dimuat dari file ke RAM. Pandas juga dapat membaca file dari berbagai format seperti .txt, .csv, .tsv, dan lainnya. Anggap saja Pandas adalah spreadsheet namun tidak memiliki GUI dan punya fitur seperti SQL."
   ]
  },
  {
   "cell_type": "code",
   "execution_count": 1,
   "metadata": {},
   "outputs": [],
   "source": [
    "import pandas as pd"
   ]
  },
  {
   "cell_type": "markdown",
   "metadata": {},
   "source": [
    "## 5.1 Membaca File CSV"
   ]
  },
  {
   "cell_type": "code",
   "execution_count": 2,
   "metadata": {},
   "outputs": [],
   "source": [
    "data_kekeringan = pd.read_csv('data-bencana-kekeringan-2012-2013.csv', delimiter = ',', encoding = \"ISO-8859-1\")"
   ]
  },
  {
   "cell_type": "markdown",
   "metadata": {},
   "source": [
    "## 5.2 Melihat Data"
   ]
  },
  {
   "cell_type": "code",
   "execution_count": 3,
   "metadata": {},
   "outputs": [
    {
     "data": {
      "text/html": [
       "<div>\n",
       "<style scoped>\n",
       "    .dataframe tbody tr th:only-of-type {\n",
       "        vertical-align: middle;\n",
       "    }\n",
       "\n",
       "    .dataframe tbody tr th {\n",
       "        vertical-align: top;\n",
       "    }\n",
       "\n",
       "    .dataframe thead th {\n",
       "        text-align: right;\n",
       "    }\n",
       "</style>\n",
       "<table border=\"1\" class=\"dataframe\">\n",
       "  <thead>\n",
       "    <tr style=\"text-align: right;\">\n",
       "      <th></th>\n",
       "      <th>No</th>\n",
       "      <th>Bencana</th>\n",
       "      <th>Tanggal</th>\n",
       "      <th>Jam</th>\n",
       "      <th>Bujur</th>\n",
       "      <th>Lintang</th>\n",
       "      <th>Lokasi</th>\n",
       "      <th>Korban</th>\n",
       "      <th>Kerugian</th>\n",
       "      <th>Keterangan</th>\n",
       "    </tr>\n",
       "  </thead>\n",
       "  <tbody>\n",
       "    <tr>\n",
       "      <th>0</th>\n",
       "      <td>1</td>\n",
       "      <td>Kekeringan</td>\n",
       "      <td>9/29/2013</td>\n",
       "      <td>NaN</td>\n",
       "      <td>110.140</td>\n",
       "      <td>-7.15097</td>\n",
       "      <td>Kampung Laut Kawungaten Kedungmangu Gadingreja...</td>\n",
       "      <td>nihil</td>\n",
       "      <td>Â± 800 ha sawah mengalami kekeringan</td>\n",
       "      <td>Kronologis : - Kekeringan terjadi pada akhir A...</td>\n",
       "    </tr>\n",
       "    <tr>\n",
       "      <th>1</th>\n",
       "      <td>2</td>\n",
       "      <td>Kekeringan</td>\n",
       "      <td>9/23/2013</td>\n",
       "      <td>12.30 WIB</td>\n",
       "      <td>106.842</td>\n",
       "      <td>-6.17332</td>\n",
       "      <td>Jl. Krmat III Dalam RT. 06 / 08 Kel. Kwitang K...</td>\n",
       "      <td>nihil</td>\n",
       "      <td>1 rumah terbakar</td>\n",
       "      <td>Kronologis : - Api berasal dari Korsleting aru...</td>\n",
       "    </tr>\n",
       "    <tr>\n",
       "      <th>2</th>\n",
       "      <td>3</td>\n",
       "      <td>Kekeringan</td>\n",
       "      <td>9/23/2013</td>\n",
       "      <td>15:32 WIB</td>\n",
       "      <td>106.845</td>\n",
       "      <td>-6.21154</td>\n",
       "      <td>Jl. Cibubur, Blok Dukuh, No. 6 RT. 02 / 10 Kel...</td>\n",
       "      <td>nihil</td>\n",
       "      <td>1 rumah terbakar</td>\n",
       "      <td>Kronologis : - Api berasal dari Korsleting aru...</td>\n",
       "    </tr>\n",
       "    <tr>\n",
       "      <th>3</th>\n",
       "      <td>4</td>\n",
       "      <td>Kekeringan</td>\n",
       "      <td>9/23/2013</td>\n",
       "      <td>18.25 WIB</td>\n",
       "      <td>106.845</td>\n",
       "      <td>-6.21154</td>\n",
       "      <td>Jl. Kebon Tebu RT. 019 / 17 Kel. Muara Baru Ke...</td>\n",
       "      <td>nihil</td>\n",
       "      <td>50 rumah petakan terbakar</td>\n",
       "      <td>Kronologis : - Api berasal dari Korsleting aru...</td>\n",
       "    </tr>\n",
       "    <tr>\n",
       "      <th>4</th>\n",
       "      <td>5</td>\n",
       "      <td>Kekeringan</td>\n",
       "      <td>9/20/2013</td>\n",
       "      <td>NaN</td>\n",
       "      <td>108.564</td>\n",
       "      <td>-6.71553</td>\n",
       "      <td>Provinsi Jawa Barat Kota Cirebon Kec. Harjamuk...</td>\n",
       "      <td>Sebagian wilayah Kel. Argasunya dan Kel. Kalij...</td>\n",
       "      <td>Dalam Pendataan</td>\n",
       "      <td>Kronologis : - Musim Kemarau Upaya : - Walikot...</td>\n",
       "    </tr>\n",
       "    <tr>\n",
       "      <th>5</th>\n",
       "      <td>6</td>\n",
       "      <td>Kekeringan</td>\n",
       "      <td>9/19/2013</td>\n",
       "      <td>NaN</td>\n",
       "      <td>113.464</td>\n",
       "      <td>-7.16460</td>\n",
       "      <td>Ds. Bujur Barat Ds. Bujur Timur Ds. Ponjanan B...</td>\n",
       "      <td>Nihil</td>\n",
       "      <td>Masih dalam pendataan</td>\n",
       "      <td>*Kronologis : Menurunnya debit sumber mata air...</td>\n",
       "    </tr>\n",
       "    <tr>\n",
       "      <th>6</th>\n",
       "      <td>7</td>\n",
       "      <td>Kekeringan</td>\n",
       "      <td>9/17/2013</td>\n",
       "      <td>07.00 WIB</td>\n",
       "      <td>112.898</td>\n",
       "      <td>-7.64975</td>\n",
       "      <td>Ds. Sruwi Ds. Sumberejo Kec. Winongan Ds. Kara...</td>\n",
       "      <td>Nihil</td>\n",
       "      <td>Dalam proses pendataan</td>\n",
       "      <td>Kondisi Mutakhir: Desa-desa yang terdampak; 1....</td>\n",
       "    </tr>\n",
       "    <tr>\n",
       "      <th>7</th>\n",
       "      <td>8</td>\n",
       "      <td>Kekeringan</td>\n",
       "      <td>9/17/2013</td>\n",
       "      <td>07:00:00 WIB</td>\n",
       "      <td>112.903</td>\n",
       "      <td>-7.64487</td>\n",
       "      <td>Ds. Sruwi Ds. Sumberejo Kec. Winongan Ds. Kara...</td>\n",
       "      <td>Nihil</td>\n",
       "      <td>Dalam proses pendataan</td>\n",
       "      <td>Kondisi Muktahir : Desa-Desa yang terdampak ; ...</td>\n",
       "    </tr>\n",
       "    <tr>\n",
       "      <th>8</th>\n",
       "      <td>9</td>\n",
       "      <td>Kekeringan</td>\n",
       "      <td>9/17/2013</td>\n",
       "      <td>NaN</td>\n",
       "      <td>108.214</td>\n",
       "      <td>-7.32795</td>\n",
       "      <td>Kab. Tasikmalaya, Provinsi Jawa Barat</td>\n",
       "      <td>Masih dalam pendataan</td>\n",
       "      <td>Masih dalam pendataan</td>\n",
       "      <td>Kronologis : - Disebabkan oleh Musim Kemarau U...</td>\n",
       "    </tr>\n",
       "    <tr>\n",
       "      <th>9</th>\n",
       "      <td>10</td>\n",
       "      <td>Kekeringan</td>\n",
       "      <td>9/16/2013</td>\n",
       "      <td>NaN</td>\n",
       "      <td>107.617</td>\n",
       "      <td>-6.81108</td>\n",
       "      <td>Provinsi Jawa Barat Kab. Bandung Barat Kec Lem...</td>\n",
       "      <td>Penduduk di 16 kecamatan terdampak</td>\n",
       "      <td>Dalam proses pendataan</td>\n",
       "      <td>Kronologis : - Musim Kemarau Upaya : - Bupati ...</td>\n",
       "    </tr>\n",
       "    <tr>\n",
       "      <th>10</th>\n",
       "      <td>11</td>\n",
       "      <td>Kekeringan</td>\n",
       "      <td>9/16/2013</td>\n",
       "      <td>NaN</td>\n",
       "      <td>108.350</td>\n",
       "      <td>-7.33333</td>\n",
       "      <td>Provinsi Jawa Barat Kab. Ciamis</td>\n",
       "      <td>Pendataan</td>\n",
       "      <td>Sawah mengalami gagal panen</td>\n",
       "      <td>Kronologis : - Disebabkan oleh Musim Kemarau U...</td>\n",
       "    </tr>\n",
       "    <tr>\n",
       "      <th>11</th>\n",
       "      <td>12</td>\n",
       "      <td>Kekeringan</td>\n",
       "      <td>9/15/2013</td>\n",
       "      <td>NaN</td>\n",
       "      <td>109.657</td>\n",
       "      <td>-7.67868</td>\n",
       "      <td>(83 Desa dalam pendataan) Kec. Kebumen Kec. Ka...</td>\n",
       "      <td>Nihil</td>\n",
       "      <td>Kesulitan mencari air bersih di 16 Kecamatan 8...</td>\n",
       "      <td>*Kronologis: -Sejak pertengahan September samp...</td>\n",
       "    </tr>\n",
       "    <tr>\n",
       "      <th>12</th>\n",
       "      <td>13</td>\n",
       "      <td>Kekeringan</td>\n",
       "      <td>9/9/2013</td>\n",
       "      <td>NaN</td>\n",
       "      <td>107.610</td>\n",
       "      <td>-6.91474</td>\n",
       "      <td>Provinsi Jawa Barat Kab. Bandung Kec. Bojong S...</td>\n",
       "      <td>Penduduk di 23 Kecamatan dan 54 Desa/Kelurahan...</td>\n",
       "      <td>Nihil</td>\n",
       "      <td>Kronologis : - Musim Kemarau Upaya : - Bupati ...</td>\n",
       "    </tr>\n",
       "    <tr>\n",
       "      <th>13</th>\n",
       "      <td>14</td>\n",
       "      <td>Kekeringan</td>\n",
       "      <td>9/5/2013</td>\n",
       "      <td>NaN</td>\n",
       "      <td>113.994</td>\n",
       "      <td>-7.70555</td>\n",
       "      <td>Dsn.Krajan Dsn.Jambaran Dsn.Kembang Sari Timur...</td>\n",
       "      <td>Nihil</td>\n",
       "      <td>Nihil</td>\n",
       "      <td>Kondisi Muktahir: -Jarak lokasi ke kota 20 Kmâ...</td>\n",
       "    </tr>\n",
       "    <tr>\n",
       "      <th>14</th>\n",
       "      <td>15</td>\n",
       "      <td>Kekeringan</td>\n",
       "      <td>9/2/2013</td>\n",
       "      <td>-</td>\n",
       "      <td>106.551</td>\n",
       "      <td>-6.98727</td>\n",
       "      <td>Kec. Tegal Buleud Ds. Calincing Kp. Puncak Sob...</td>\n",
       "      <td>Korban Jiwa/Terdampak :  Ds. Pagelaran 700 KK...</td>\n",
       "      <td>Kerugian Materil :  Di Kec. Jampang Kulon, Ds...</td>\n",
       "      <td>Kronologis : Kekeringan terjadi pada akhir Agu...</td>\n",
       "    </tr>\n",
       "    <tr>\n",
       "      <th>15</th>\n",
       "      <td>16</td>\n",
       "      <td>Kekeringan</td>\n",
       "      <td>9/2/2013</td>\n",
       "      <td>-</td>\n",
       "      <td>112.163</td>\n",
       "      <td>-8.10144</td>\n",
       "      <td>Kec. Nglegok Ds. Sumber Sari Kec. Panggung Rej...</td>\n",
       "      <td>Korban Jiwa : Nihil</td>\n",
       "      <td>Kerugian Materil : Nihil</td>\n",
       "      <td>Dampak Bencana :  Kekuranagn AIR  Tanah Keri...</td>\n",
       "    </tr>\n",
       "    <tr>\n",
       "      <th>16</th>\n",
       "      <td>17</td>\n",
       "      <td>Kekeringan</td>\n",
       "      <td>9/1/2013</td>\n",
       "      <td>NaN</td>\n",
       "      <td>108.840</td>\n",
       "      <td>-6.83133</td>\n",
       "      <td>Ds. Kamal Ds. Pamulihan Kec. Larangan Ds. Peng...</td>\n",
       "      <td>Nihil</td>\n",
       "      <td>Wilayah Timur : 150 Ha sawah kekeringan Wilaya...</td>\n",
       "      <td>Kondisi Mutakhir : Kekeringan terjadi dari bul...</td>\n",
       "    </tr>\n",
       "    <tr>\n",
       "      <th>17</th>\n",
       "      <td>18</td>\n",
       "      <td>Kekeringan</td>\n",
       "      <td>8/31/2013</td>\n",
       "      <td>NaN</td>\n",
       "      <td>110.008</td>\n",
       "      <td>-7.70973</td>\n",
       "      <td>Kec. Bagelen Kec. Purworejo Kec. Gerabak Kec. ...</td>\n",
       "      <td>Nihil</td>\n",
       "      <td>Masih dalam pendataan</td>\n",
       "      <td>Kronologis :Musim kemarau Upaya : - BPBD, Dina...</td>\n",
       "    </tr>\n",
       "    <tr>\n",
       "      <th>18</th>\n",
       "      <td>19</td>\n",
       "      <td>Kekeringan</td>\n",
       "      <td>8/31/2013</td>\n",
       "      <td>NaN</td>\n",
       "      <td>109.547</td>\n",
       "      <td>-7.46168</td>\n",
       "      <td>Ds panerusan kulon Ds Panerusan wetan Ds gumel...</td>\n",
       "      <td>Nihil</td>\n",
       "      <td>-Sawah 304 Ha Kering terancam gagal panen -Lad...</td>\n",
       "      <td>Kronologis : -Jumlah desa yang mengalami rawan...</td>\n",
       "    </tr>\n",
       "    <tr>\n",
       "      <th>19</th>\n",
       "      <td>20</td>\n",
       "      <td>Kekeringan</td>\n",
       "      <td>8/15/2013</td>\n",
       "      <td>NaN</td>\n",
       "      <td>109.642</td>\n",
       "      <td>-7.68377</td>\n",
       "      <td>Kec. Ayah Kec. Buayan Kec. Rowokele Kec. Sempo...</td>\n",
       "      <td>Nihil</td>\n",
       "      <td>Nihil</td>\n",
       "      <td>*Kronologis :Kekeringan disebabkan oleh pola m...</td>\n",
       "    </tr>\n",
       "    <tr>\n",
       "      <th>20</th>\n",
       "      <td>21</td>\n",
       "      <td>Kekeringan</td>\n",
       "      <td>8/24/2012</td>\n",
       "      <td>NaN</td>\n",
       "      <td>114.952</td>\n",
       "      <td>-3.17240</td>\n",
       "      <td>Kec. Simpang Empat, Kab. Banjar, Prov. Kaliman...</td>\n",
       "      <td>2039 KK / 8156 jiwa terdampak</td>\n",
       "      <td>Nihil</td>\n",
       "      <td>- BPBD langsung meninjau lokasi bencana kekeri...</td>\n",
       "    </tr>\n",
       "    <tr>\n",
       "      <th>21</th>\n",
       "      <td>22</td>\n",
       "      <td>Kekeringan</td>\n",
       "      <td>8/1/2012</td>\n",
       "      <td>NaN</td>\n",
       "      <td>113.722</td>\n",
       "      <td>-7.80896</td>\n",
       "      <td>Kab. Probolinggo, Prov. Jawa Timur</td>\n",
       "      <td>104.344 jiwa tersebar di 40 desa dan 12 kecamatan</td>\n",
       "      <td>NaN</td>\n",
       "      <td>- Musim kemarau yang panjang telah menimbulkan...</td>\n",
       "    </tr>\n",
       "    <tr>\n",
       "      <th>22</th>\n",
       "      <td>23</td>\n",
       "      <td>Kekeringan</td>\n",
       "      <td>6/7/2012</td>\n",
       "      <td>NaN</td>\n",
       "      <td>112.960</td>\n",
       "      <td>-7.83601</td>\n",
       "      <td>Kec. Gempol dan Lumbang, Kab. Pasuruan, Prov. ...</td>\n",
       "      <td>11.444 KK / 46.594 Jiwa</td>\n",
       "      <td>NaN</td>\n",
       "      <td>NaN</td>\n",
       "    </tr>\n",
       "  </tbody>\n",
       "</table>\n",
       "</div>"
      ],
      "text/plain": [
       "    No     Bencana    Tanggal           Jam    Bujur   Lintang   \\\n",
       "0     1  Kekeringan  9/29/2013           NaN  110.140  -7.15097   \n",
       "1     2  Kekeringan  9/23/2013     12.30 WIB  106.842  -6.17332   \n",
       "2     3  Kekeringan  9/23/2013     15:32 WIB  106.845  -6.21154   \n",
       "3     4  Kekeringan  9/23/2013     18.25 WIB  106.845  -6.21154   \n",
       "4     5  Kekeringan  9/20/2013           NaN  108.564  -6.71553   \n",
       "5     6  Kekeringan  9/19/2013           NaN  113.464  -7.16460   \n",
       "6     7  Kekeringan  9/17/2013     07.00 WIB  112.898  -7.64975   \n",
       "7     8  Kekeringan  9/17/2013  07:00:00 WIB  112.903  -7.64487   \n",
       "8     9  Kekeringan  9/17/2013           NaN  108.214  -7.32795   \n",
       "9    10  Kekeringan  9/16/2013           NaN  107.617  -6.81108   \n",
       "10   11  Kekeringan  9/16/2013           NaN  108.350  -7.33333   \n",
       "11   12  Kekeringan  9/15/2013           NaN  109.657  -7.67868   \n",
       "12   13  Kekeringan   9/9/2013           NaN  107.610  -6.91474   \n",
       "13   14  Kekeringan   9/5/2013           NaN  113.994  -7.70555   \n",
       "14   15  Kekeringan   9/2/2013             -  106.551  -6.98727   \n",
       "15   16  Kekeringan   9/2/2013             -  112.163  -8.10144   \n",
       "16   17  Kekeringan   9/1/2013           NaN  108.840  -6.83133   \n",
       "17   18  Kekeringan  8/31/2013           NaN  110.008  -7.70973   \n",
       "18   19  Kekeringan  8/31/2013           NaN  109.547  -7.46168   \n",
       "19   20  Kekeringan  8/15/2013           NaN  109.642  -7.68377   \n",
       "20   21  Kekeringan  8/24/2012           NaN  114.952  -3.17240   \n",
       "21   22  Kekeringan   8/1/2012           NaN  113.722  -7.80896   \n",
       "22   23  Kekeringan   6/7/2012           NaN  112.960  -7.83601   \n",
       "\n",
       "                                              Lokasi   \\\n",
       "0   Kampung Laut Kawungaten Kedungmangu Gadingreja...   \n",
       "1   Jl. Krmat III Dalam RT. 06 / 08 Kel. Kwitang K...   \n",
       "2   Jl. Cibubur, Blok Dukuh, No. 6 RT. 02 / 10 Kel...   \n",
       "3   Jl. Kebon Tebu RT. 019 / 17 Kel. Muara Baru Ke...   \n",
       "4   Provinsi Jawa Barat Kota Cirebon Kec. Harjamuk...   \n",
       "5   Ds. Bujur Barat Ds. Bujur Timur Ds. Ponjanan B...   \n",
       "6   Ds. Sruwi Ds. Sumberejo Kec. Winongan Ds. Kara...   \n",
       "7   Ds. Sruwi Ds. Sumberejo Kec. Winongan Ds. Kara...   \n",
       "8               Kab. Tasikmalaya, Provinsi Jawa Barat   \n",
       "9   Provinsi Jawa Barat Kab. Bandung Barat Kec Lem...   \n",
       "10                    Provinsi Jawa Barat Kab. Ciamis   \n",
       "11  (83 Desa dalam pendataan) Kec. Kebumen Kec. Ka...   \n",
       "12  Provinsi Jawa Barat Kab. Bandung Kec. Bojong S...   \n",
       "13  Dsn.Krajan Dsn.Jambaran Dsn.Kembang Sari Timur...   \n",
       "14  Kec. Tegal Buleud Ds. Calincing Kp. Puncak Sob...   \n",
       "15  Kec. Nglegok Ds. Sumber Sari Kec. Panggung Rej...   \n",
       "16  Ds. Kamal Ds. Pamulihan Kec. Larangan Ds. Peng...   \n",
       "17  Kec. Bagelen Kec. Purworejo Kec. Gerabak Kec. ...   \n",
       "18  Ds panerusan kulon Ds Panerusan wetan Ds gumel...   \n",
       "19  Kec. Ayah Kec. Buayan Kec. Rowokele Kec. Sempo...   \n",
       "20  Kec. Simpang Empat, Kab. Banjar, Prov. Kaliman...   \n",
       "21                 Kab. Probolinggo, Prov. Jawa Timur   \n",
       "22  Kec. Gempol dan Lumbang, Kab. Pasuruan, Prov. ...   \n",
       "\n",
       "                                              Korban   \\\n",
       "0                                               nihil   \n",
       "1                                               nihil   \n",
       "2                                               nihil   \n",
       "3                                               nihil   \n",
       "4   Sebagian wilayah Kel. Argasunya dan Kel. Kalij...   \n",
       "5                                               Nihil   \n",
       "6                                               Nihil   \n",
       "7                                               Nihil   \n",
       "8                               Masih dalam pendataan   \n",
       "9                  Penduduk di 16 kecamatan terdampak   \n",
       "10                                          Pendataan   \n",
       "11                                              Nihil   \n",
       "12  Penduduk di 23 Kecamatan dan 54 Desa/Kelurahan...   \n",
       "13                                              Nihil   \n",
       "14  Korban Jiwa/Terdampak :  Ds. Pagelaran 700 KK...   \n",
       "15                                Korban Jiwa : Nihil   \n",
       "16                                              Nihil   \n",
       "17                                              Nihil   \n",
       "18                                              Nihil   \n",
       "19                                              Nihil   \n",
       "20                      2039 KK / 8156 jiwa terdampak   \n",
       "21  104.344 jiwa tersebar di 40 desa dan 12 kecamatan   \n",
       "22                            11.444 KK / 46.594 Jiwa   \n",
       "\n",
       "                                            Kerugian   \\\n",
       "0                Â± 800 ha sawah mengalami kekeringan   \n",
       "1                                    1 rumah terbakar   \n",
       "2                                    1 rumah terbakar   \n",
       "3                           50 rumah petakan terbakar   \n",
       "4                                     Dalam Pendataan   \n",
       "5                               Masih dalam pendataan   \n",
       "6                              Dalam proses pendataan   \n",
       "7                              Dalam proses pendataan   \n",
       "8                               Masih dalam pendataan   \n",
       "9                              Dalam proses pendataan   \n",
       "10                        Sawah mengalami gagal panen   \n",
       "11  Kesulitan mencari air bersih di 16 Kecamatan 8...   \n",
       "12                                              Nihil   \n",
       "13                                              Nihil   \n",
       "14  Kerugian Materil :  Di Kec. Jampang Kulon, Ds...   \n",
       "15                           Kerugian Materil : Nihil   \n",
       "16  Wilayah Timur : 150 Ha sawah kekeringan Wilaya...   \n",
       "17                              Masih dalam pendataan   \n",
       "18  -Sawah 304 Ha Kering terancam gagal panen -Lad...   \n",
       "19                                              Nihil   \n",
       "20                                              Nihil   \n",
       "21                                                NaN   \n",
       "22                                                NaN   \n",
       "\n",
       "                                          Keterangan   \n",
       "0   Kronologis : - Kekeringan terjadi pada akhir A...  \n",
       "1   Kronologis : - Api berasal dari Korsleting aru...  \n",
       "2   Kronologis : - Api berasal dari Korsleting aru...  \n",
       "3   Kronologis : - Api berasal dari Korsleting aru...  \n",
       "4   Kronologis : - Musim Kemarau Upaya : - Walikot...  \n",
       "5   *Kronologis : Menurunnya debit sumber mata air...  \n",
       "6   Kondisi Mutakhir: Desa-desa yang terdampak; 1....  \n",
       "7   Kondisi Muktahir : Desa-Desa yang terdampak ; ...  \n",
       "8   Kronologis : - Disebabkan oleh Musim Kemarau U...  \n",
       "9   Kronologis : - Musim Kemarau Upaya : - Bupati ...  \n",
       "10  Kronologis : - Disebabkan oleh Musim Kemarau U...  \n",
       "11  *Kronologis: -Sejak pertengahan September samp...  \n",
       "12  Kronologis : - Musim Kemarau Upaya : - Bupati ...  \n",
       "13  Kondisi Muktahir: -Jarak lokasi ke kota 20 Kmâ...  \n",
       "14  Kronologis : Kekeringan terjadi pada akhir Agu...  \n",
       "15  Dampak Bencana :  Kekuranagn AIR  Tanah Keri...  \n",
       "16  Kondisi Mutakhir : Kekeringan terjadi dari bul...  \n",
       "17  Kronologis :Musim kemarau Upaya : - BPBD, Dina...  \n",
       "18  Kronologis : -Jumlah desa yang mengalami rawan...  \n",
       "19  *Kronologis :Kekeringan disebabkan oleh pola m...  \n",
       "20  - BPBD langsung meninjau lokasi bencana kekeri...  \n",
       "21  - Musim kemarau yang panjang telah menimbulkan...  \n",
       "22                                                NaN  "
      ]
     },
     "execution_count": 3,
     "metadata": {},
     "output_type": "execute_result"
    }
   ],
   "source": [
    "data_kekeringan"
   ]
  },
  {
   "cell_type": "code",
   "execution_count": null,
   "metadata": {},
   "outputs": [],
   "source": [
    "data_kekeringan.head()"
   ]
  },
  {
   "cell_type": "code",
   "execution_count": null,
   "metadata": {},
   "outputs": [],
   "source": [
    "data_kekeringan.tail()"
   ]
  },
  {
   "cell_type": "code",
   "execution_count": null,
   "metadata": {},
   "outputs": [],
   "source": [
    "data_kekeringan.sample(5)"
   ]
  },
  {
   "cell_type": "markdown",
   "metadata": {},
   "source": [
    "## 5.3 Memilih Beberapa Kolom Saja"
   ]
  },
  {
   "cell_type": "code",
   "execution_count": 4,
   "metadata": {},
   "outputs": [
    {
     "data": {
      "text/plain": [
       "Index(['No ', 'Bencana ', 'Tanggal ', 'Jam ', 'Bujur ', 'Lintang ', 'Lokasi ',\n",
       "       'Korban ', 'Kerugian ', 'Keterangan '],\n",
       "      dtype='object')"
      ]
     },
     "execution_count": 4,
     "metadata": {},
     "output_type": "execute_result"
    }
   ],
   "source": [
    "data_kekeringan.columns"
   ]
  },
  {
   "cell_type": "code",
   "execution_count": null,
   "metadata": {},
   "outputs": [],
   "source": [
    "data_kekeringan[['Bencana ','Lokasi ']]"
   ]
  },
  {
   "cell_type": "code",
   "execution_count": 11,
   "metadata": {},
   "outputs": [
    {
     "data": {
      "text/plain": [
       "0     Kampung Laut Kawungaten Kedungmangu Gadingreja...\n",
       "1     Jl. Krmat III Dalam RT. 06 / 08 Kel. Kwitang K...\n",
       "2     Jl. Cibubur, Blok Dukuh, No. 6 RT. 02 / 10 Kel...\n",
       "3     Jl. Kebon Tebu RT. 019 / 17 Kel. Muara Baru Ke...\n",
       "4     Provinsi Jawa Barat Kota Cirebon Kec. Harjamuk...\n",
       "5     Ds. Bujur Barat Ds. Bujur Timur Ds. Ponjanan B...\n",
       "6     Ds. Sruwi Ds. Sumberejo Kec. Winongan Ds. Kara...\n",
       "7     Ds. Sruwi Ds. Sumberejo Kec. Winongan Ds. Kara...\n",
       "8                 Kab. Tasikmalaya, Provinsi Jawa Barat\n",
       "9     Provinsi Jawa Barat Kab. Bandung Barat Kec Lem...\n",
       "10                      Provinsi Jawa Barat Kab. Ciamis\n",
       "11    (83 Desa dalam pendataan) Kec. Kebumen Kec. Ka...\n",
       "12    Provinsi Jawa Barat Kab. Bandung Kec. Bojong S...\n",
       "13    Dsn.Krajan Dsn.Jambaran Dsn.Kembang Sari Timur...\n",
       "14    Kec. Tegal Buleud Ds. Calincing Kp. Puncak Sob...\n",
       "15    Kec. Nglegok Ds. Sumber Sari Kec. Panggung Rej...\n",
       "16    Ds. Kamal Ds. Pamulihan Kec. Larangan Ds. Peng...\n",
       "17    Kec. Bagelen Kec. Purworejo Kec. Gerabak Kec. ...\n",
       "18    Ds panerusan kulon Ds Panerusan wetan Ds gumel...\n",
       "19    Kec. Ayah Kec. Buayan Kec. Rowokele Kec. Sempo...\n",
       "20    Kec. Simpang Empat, Kab. Banjar, Prov. Kaliman...\n",
       "21                   Kab. Probolinggo, Prov. Jawa Timur\n",
       "22    Kec. Gempol dan Lumbang, Kab. Pasuruan, Prov. ...\n",
       "Name: Lokasi , dtype: object"
      ]
     },
     "execution_count": 11,
     "metadata": {},
     "output_type": "execute_result"
    }
   ],
   "source": [
    "data_kekeringan['Lokasi ']"
   ]
  },
  {
   "cell_type": "code",
   "execution_count": null,
   "metadata": {},
   "outputs": [],
   "source": [
    "data_kekeringan['Lokasi '][2]"
   ]
  },
  {
   "cell_type": "code",
   "execution_count": null,
   "metadata": {},
   "outputs": [],
   "source": [
    "data_kekeringan[data_kekeringan['Tanggal ']=='9/16/2013']"
   ]
  },
  {
   "cell_type": "markdown",
   "metadata": {},
   "source": [
    "## 5.4 Contoh Data Lain yang memiliki Kolom Numerik"
   ]
  },
  {
   "cell_type": "code",
   "execution_count": 12,
   "metadata": {},
   "outputs": [],
   "source": [
    "data_pangan = pd.read_csv('jumlah-usaha-pertanian-per-provinsi-per-usaha-2003-2013.csv', delimiter = ',', encoding = \"utf-8\")"
   ]
  },
  {
   "cell_type": "code",
   "execution_count": 14,
   "metadata": {},
   "outputs": [
    {
     "data": {
      "text/plain": [
       "0       699370.0\n",
       "1          131.0\n",
       "2       644851.0\n",
       "3          100.0\n",
       "4          111.0\n",
       "5      1492104.0\n",
       "6          455.0\n",
       "7      1327759.0\n",
       "8          420.0\n",
       "9          352.0\n",
       "10      709351.0\n",
       "11          99.0\n",
       "12      644610.0\n",
       "13          71.0\n",
       "14         293.0\n",
       "15      541050.0\n",
       "16         177.0\n",
       "17      581517.0\n",
       "18         258.0\n",
       "19         102.0\n",
       "20      414986.0\n",
       "21          77.0\n",
       "22      431589.0\n",
       "23         123.0\n",
       "24         120.0\n",
       "25      971458.0\n",
       "26         118.0\n",
       "27      958724.0\n",
       "28         178.0\n",
       "29          46.0\n",
       "         ...    \n",
       "140     167098.0\n",
       "141         18.0\n",
       "142     185847.0\n",
       "143         14.0\n",
       "144         23.0\n",
       "145     184376.0\n",
       "146         57.0\n",
       "147     175362.0\n",
       "148         52.0\n",
       "149        235.0\n",
       "150     129246.0\n",
       "151         21.0\n",
       "152     130233.0\n",
       "153         20.0\n",
       "154         69.0\n",
       "155      75790.0\n",
       "156         32.0\n",
       "157      70223.0\n",
       "158         41.0\n",
       "159         30.0\n",
       "160     280502.0\n",
       "161         46.0\n",
       "162     438658.0\n",
       "163         54.0\n",
       "164         15.0\n",
       "165      38948.0\n",
       "166         38.0\n",
       "167      44735.0\n",
       "168         28.0\n",
       "169          NaN\n",
       "Name: jumlah, Length: 170, dtype: float64"
      ]
     },
     "execution_count": 14,
     "metadata": {},
     "output_type": "execute_result"
    }
   ],
   "source": [
    "data_pangan['jumlah']"
   ]
  },
  {
   "cell_type": "code",
   "execution_count": null,
   "metadata": {},
   "outputs": [],
   "source": [
    "data_pangan.count()"
   ]
  },
  {
   "cell_type": "code",
   "execution_count": 8,
   "metadata": {},
   "outputs": [
    {
     "data": {
      "text/plain": [
       "Index(['kode_provinsi', 'nama_provinsi', 'bentuk_usaha', 'tahun', 'jumlah'], dtype='object')"
      ]
     },
     "execution_count": 8,
     "metadata": {},
     "output_type": "execute_result"
    }
   ],
   "source": [
    "data_pangan.columns"
   ]
  },
  {
   "cell_type": "markdown",
   "metadata": {},
   "source": [
    "## 5.5 Statistik Sederhana"
   ]
  },
  {
   "cell_type": "code",
   "execution_count": 5,
   "metadata": {},
   "outputs": [
    {
     "data": {
      "text/plain": [
       "165"
      ]
     },
     "execution_count": 5,
     "metadata": {},
     "output_type": "execute_result"
    }
   ],
   "source": [
    "data_pangan.kode_provinsi.count()"
   ]
  },
  {
   "cell_type": "code",
   "execution_count": 6,
   "metadata": {},
   "outputs": [
    {
     "name": "stdout",
     "output_type": "stream",
     "text": [
      "57381750.0 6.0 6314370.0\n"
     ]
    }
   ],
   "source": [
    "s = data_pangan.jumlah.sum()\n",
    "mi = data_pangan.jumlah.min()\n",
    "ma = data_pangan.jumlah.max()\n",
    "\n",
    "print(s,mi,ma)"
   ]
  },
  {
   "cell_type": "code",
   "execution_count": 9,
   "metadata": {},
   "outputs": [
    {
     "name": "stdout",
     "output_type": "stream",
     "text": [
      "kode_provinsi           (47.03030303030303+0j)\n",
      "nama_provinsi    (4.014565e-318+4.00794e-318j)\n",
      "bentuk_usaha     (4.011393e-318+4.01457e-318j)\n",
      "tahun                                (2009+0j)\n",
      "jumlah                  (339536.9822485207+0j)\n",
      "dtype: complex128\n"
     ]
    }
   ],
   "source": [
    "me = data_pangan.mean()\n",
    "md = data_pangan.median()\n",
    "\n",
    "print(me)"
   ]
  },
  {
   "cell_type": "code",
   "execution_count": null,
   "metadata": {},
   "outputs": [],
   "source": [
    "print(md)"
   ]
  },
  {
   "cell_type": "markdown",
   "metadata": {},
   "source": [
    "## 5.6 Grouping \n",
    "\n",
    "http://pbpython.com/images/groupby-example.png"
   ]
  },
  {
   "cell_type": "code",
   "execution_count": 49,
   "metadata": {},
   "outputs": [
    {
     "data": {
      "text/html": [
       "<div>\n",
       "<style scoped>\n",
       "    .dataframe tbody tr th:only-of-type {\n",
       "        vertical-align: middle;\n",
       "    }\n",
       "\n",
       "    .dataframe tbody tr th {\n",
       "        vertical-align: top;\n",
       "    }\n",
       "\n",
       "    .dataframe thead th {\n",
       "        text-align: right;\n",
       "    }\n",
       "</style>\n",
       "<table border=\"1\" class=\"dataframe\">\n",
       "  <thead>\n",
       "    <tr style=\"text-align: right;\">\n",
       "      <th></th>\n",
       "      <th>kode_provinsi</th>\n",
       "      <th>jumlah</th>\n",
       "    </tr>\n",
       "    <tr>\n",
       "      <th>tahun</th>\n",
       "      <th></th>\n",
       "      <th></th>\n",
       "    </tr>\n",
       "  </thead>\n",
       "  <tbody>\n",
       "    <tr>\n",
       "      <th>2003</th>\n",
       "      <td>47.030303</td>\n",
       "      <td>459355.794118</td>\n",
       "    </tr>\n",
       "    <tr>\n",
       "      <th>2013</th>\n",
       "      <td>47.030303</td>\n",
       "      <td>258866.891089</td>\n",
       "    </tr>\n",
       "  </tbody>\n",
       "</table>\n",
       "</div>"
      ],
      "text/plain": [
       "       kode_provinsi         jumlah\n",
       "tahun                              \n",
       "2003       47.030303  459355.794118\n",
       "2013       47.030303  258866.891089"
      ]
     },
     "execution_count": 49,
     "metadata": {},
     "output_type": "execute_result"
    }
   ],
   "source": [
    "data_pangan.groupby('tahun').mean()"
   ]
  },
  {
   "cell_type": "code",
   "execution_count": null,
   "metadata": {},
   "outputs": [],
   "source": [
    "data_pangan.groupby('nama_provinsi').mean()"
   ]
  },
  {
   "cell_type": "code",
   "execution_count": 46,
   "metadata": {},
   "outputs": [
    {
     "data": {
      "text/html": [
       "<div>\n",
       "<style scoped>\n",
       "    .dataframe tbody tr th:only-of-type {\n",
       "        vertical-align: middle;\n",
       "    }\n",
       "\n",
       "    .dataframe tbody tr th {\n",
       "        vertical-align: top;\n",
       "    }\n",
       "\n",
       "    .dataframe thead th {\n",
       "        text-align: right;\n",
       "    }\n",
       "</style>\n",
       "<table border=\"1\" class=\"dataframe\">\n",
       "  <thead>\n",
       "    <tr style=\"text-align: right;\">\n",
       "      <th></th>\n",
       "      <th>kode_provinsi</th>\n",
       "      <th>tahun</th>\n",
       "      <th>jumlah</th>\n",
       "    </tr>\n",
       "    <tr>\n",
       "      <th>bentuk_usaha</th>\n",
       "      <th></th>\n",
       "      <th></th>\n",
       "      <th></th>\n",
       "    </tr>\n",
       "  </thead>\n",
       "  <tbody>\n",
       "    <tr>\n",
       "      <th>Badan Hukum</th>\n",
       "      <td>47.030303</td>\n",
       "      <td>2008</td>\n",
       "      <td>120.220588</td>\n",
       "    </tr>\n",
       "    <tr>\n",
       "      <th>Lainnya</th>\n",
       "      <td>47.030303</td>\n",
       "      <td>2013</td>\n",
       "      <td>179.454545</td>\n",
       "    </tr>\n",
       "    <tr>\n",
       "      <th>Rumah Tangga</th>\n",
       "      <td>47.030303</td>\n",
       "      <td>2008</td>\n",
       "      <td>843641.955882</td>\n",
       "    </tr>\n",
       "  </tbody>\n",
       "</table>\n",
       "</div>"
      ],
      "text/plain": [
       "              kode_provinsi  tahun         jumlah\n",
       "bentuk_usaha                                     \n",
       "Badan Hukum       47.030303   2008     120.220588\n",
       "Lainnya           47.030303   2013     179.454545\n",
       "Rumah Tangga      47.030303   2008  843641.955882"
      ]
     },
     "execution_count": 46,
     "metadata": {},
     "output_type": "execute_result"
    }
   ],
   "source": [
    "data_pangan.groupby('bentuk_usaha').mean()"
   ]
  },
  {
   "cell_type": "markdown",
   "metadata": {},
   "source": [
    "## 5.7 Visualisasi Sederhana\n",
    "Panda menyediakan fungsi untuk melakukan visualisasi sederhana, namun jika menginginkan yang lebih lengkap, bisa melihat di library matplotlib"
   ]
  },
  {
   "cell_type": "code",
   "execution_count": 8,
   "metadata": {},
   "outputs": [
    {
     "data": {
      "text/plain": [
       "Text(0,0.5,'Jumlah')"
      ]
     },
     "execution_count": 8,
     "metadata": {},
     "output_type": "execute_result"
    },
    {
     "data": {
      "image/png": "[encoded data removed]",
      "text/plain": [
       "<Figure size 432x288 with 1 Axes>"
      ]
     },
     "metadata": {
      "needs_background": "light"
     },
     "output_type": "display_data"
    }
   ],
   "source": [
    "ax = data_pangan.groupby('tahun').mean()['jumlah']\n",
    "ax = ax.plot(kind='bar', title =\"Rata-Rata Berdasarkan Tahun\", legend=True, fontsize=12)\n",
    "ax.set_xlabel(\"Tahun\", fontsize=12)\n",
    "ax.set_ylabel(\"Jumlah\", fontsize=12)"
   ]
  },
  {
   "cell_type": "markdown",
   "metadata": {},
   "source": [
    "## Projects\n",
    "\n",
    "Temukan data yang menurut kalian menarik pada http://data.go.id . Buat analisa data yang berisi:\n",
    "1. Deskripsi Data\n",
    "2. Statistik tentang data\n",
    "3. Visualisasi sederhana\n",
    "4. Narasi analisis\n",
    "\n",
    "Buat dalam sebuah Notebook dengan judul Analisa Data X, dimana X adalah Deskripsi Data yang dianalisa. Submit link menuju notebooknya di elisa."
   ]
  },
  {
   "cell_type": "code",
   "execution_count": null,
   "metadata": {},
   "outputs": [],
   "source": []
  }
 ],
 "metadata": {
  "kernelspec": {
   "display_name": "Python 3",
   "language": "python",
   "name": "python3"
  },
  "language_info": {
   "codemirror_mode": {
    "name": "ipython",
    "version": 3
   },
   "file_extension": ".py",
   "mimetype": "text/x-python",
   "name": "python",
   "nbconvert_exporter": "python",
   "pygments_lexer": "ipython3",
   "version": "3.7.0"
  }
 },
 "nbformat": 4,
 "nbformat_minor": 2
}
