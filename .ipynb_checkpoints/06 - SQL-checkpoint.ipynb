{
 "cells": [
  {
   "cell_type": "markdown",
   "metadata": {},
   "source": [
    "# MySQL\n",
    "\n",
    "Sebelum memulai, pastikan sudah :\n",
    "- Install Laragon\n",
    "- Start All pada Laragon\n",
    "- Install PyMySQL dengan cara: conda install pymysql\n",
    "- Import database mysqlsampledatabase.sql pada HeidiSQL melalui Tombol Database pada Laragon"
   ]
  },
  {
   "cell_type": "code",
   "execution_count": null,
   "metadata": {},
   "outputs": [],
   "source": [
    "import os\n",
    "import pymysql\n",
    "import pandas as pd\n",
    "\n",
    "host = '127.0.0.1'\n",
    "port = \"3306\"\n",
    "user = 'root'\n",
    "password = ''\n",
    "database = 'classicmodels'\n",
    "\n",
    "conn = pymysql.connect(\n",
    "    host=host,\n",
    "    port=int(port),\n",
    "    user=user,\n",
    "    passwd=password,\n",
    "    db=database,\n",
    "    charset='utf8mb4')\n",
    "\n",
    "def run(sql):\n",
    "    df = pd.read_sql_query(sql,conn)\n",
    "    return df"
   ]
  },
  {
   "cell_type": "markdown",
   "metadata": {},
   "source": [
    "## Berikut adalah Skema Database dari Sample Database yang telah kita Import dengan nama database Classicmodels:\n",
    "\n",
    "<img src=\"http://www.mysqltutorial.org/wp-content/uploads/2009/12/MySQL-Sample-Database-Schema.png\" />"
   ]
  },
  {
   "cell_type": "code",
   "execution_count": null,
   "metadata": {},
   "outputs": [],
   "source": [
    "run(\"SHOW TABLES\")"
   ]
  },
  {
   "cell_type": "markdown",
   "metadata": {},
   "source": [
    "## 1. Mengambil dan Memilih data dengan SELECT "
   ]
  },
  {
   "cell_type": "code",
   "execution_count": null,
   "metadata": {},
   "outputs": [],
   "source": [
    "run(\"SELECT * FROM products\")"
   ]
  },
  {
   "cell_type": "code",
   "execution_count": null,
   "metadata": {},
   "outputs": [],
   "source": [
    "run(\"SELECT productName,buyPrice FROM products\")"
   ]
  },
  {
   "cell_type": "code",
   "execution_count": null,
   "metadata": {},
   "outputs": [],
   "source": [
    "run(\"SELECT firstName,lastName FROM employees\")"
   ]
  },
  {
   "cell_type": "code",
   "execution_count": null,
   "metadata": {},
   "outputs": [],
   "source": [
    "run(\"SELECT CONCAT(firstName,' ',lastName) AS fullName FROM employees\")"
   ]
  },
  {
   "cell_type": "code",
   "execution_count": null,
   "metadata": {},
   "outputs": [],
   "source": [
    "run(\"SELECT * FROM orders\")"
   ]
  },
  {
   "cell_type": "code",
   "execution_count": null,
   "metadata": {},
   "outputs": [],
   "source": [
    "run(\"SELECT orderNumber,YEAR(orderDate),MONTH(orderDate),DAY(orderDate) FROM orders\")"
   ]
  },
  {
   "cell_type": "code",
   "execution_count": null,
   "metadata": {},
   "outputs": [],
   "source": [
    "# DISTINCT : Lihat Perbedaan dari Query dibawah ini\n",
    "run(\"SELECT lastName FROM employees\")\n",
    "# run(\"SELECT DISTINCT lastName FROM employees\")"
   ]
  },
  {
   "cell_type": "markdown",
   "metadata": {},
   "source": [
    "## 2. Kondisi dengan WHERE"
   ]
  },
  {
   "cell_type": "code",
   "execution_count": null,
   "metadata": {},
   "outputs": [],
   "source": [
    "run(\"SELECT productName,buyPrice FROM products WHERE buyPrice>50\")"
   ]
  },
  {
   "cell_type": "code",
   "execution_count": null,
   "metadata": {},
   "outputs": [],
   "source": [
    "run(\"SELECT productName,buyPrice FROM products WHERE buyPrice BETWEEN 50 AND 60\")"
   ]
  },
  {
   "cell_type": "code",
   "execution_count": null,
   "metadata": {},
   "outputs": [],
   "source": [
    "run(\"SELECT firstName,lastName,jobTitle,officeCode FROM employees WHERE jobTitle='Sales Rep'\")"
   ]
  },
  {
   "cell_type": "code",
   "execution_count": null,
   "metadata": {},
   "outputs": [],
   "source": [
    "run(\"SELECT firstName,lastName,jobTitle,officeCode FROM employees WHERE jobTitle IN ('Sales Rep','VP Sales')\")"
   ]
  },
  {
   "cell_type": "code",
   "execution_count": null,
   "metadata": {},
   "outputs": [],
   "source": [
    "run(\"SELECT firstName,lastName,jobTitle,officeCode FROM employees WHERE jobTitle<>'Sales Rep'\")"
   ]
  },
  {
   "cell_type": "code",
   "execution_count": null,
   "metadata": {},
   "outputs": [],
   "source": [
    "run(\"SELECT firstName,lastName,jobTitle,officeCode FROM employees WHERE jobTitle='Sales Rep' AND officeCode=1\")"
   ]
  },
  {
   "cell_type": "code",
   "execution_count": null,
   "metadata": {},
   "outputs": [],
   "source": [
    "run(\"\"\"\n",
    "SELECT firstName,lastName,jobTitle,officeCode \n",
    "FROM employees \n",
    "WHERE jobTitle='Sales Rep' AND officeCode=1 AND lastName='Thompson'\n",
    "\"\"\")"
   ]
  },
  {
   "cell_type": "code",
   "execution_count": null,
   "metadata": {},
   "outputs": [],
   "source": [
    "run(\"\"\"\n",
    "SELECT   customername,\n",
    "         country,\n",
    "         state,\n",
    "         creditlimit\n",
    "FROM customers\n",
    "WHERE country = 'USA'\n",
    "        AND state = 'CA'\n",
    "        AND creditlimit > 100000\n",
    "\"\"\")"
   ]
  },
  {
   "cell_type": "code",
   "execution_count": null,
   "metadata": {},
   "outputs": [],
   "source": [
    "run(\"SELECT firstName,lastName,jobTitle,officeCode FROM employees WHERE jobTitle<>'Sales Rep' OR officeCode=1\")"
   ]
  },
  {
   "cell_type": "code",
   "execution_count": null,
   "metadata": {},
   "outputs": [],
   "source": [
    "run(\"\"\"\n",
    "SELECT \n",
    "    customername, country\n",
    "FROM\n",
    "    customers\n",
    "WHERE\n",
    "    country = 'USA' OR country = 'France';\n",
    "\"\"\")"
   ]
  },
  {
   "cell_type": "markdown",
   "metadata": {},
   "source": [
    "## 3. Mengurutkan Hasil dengan Order By"
   ]
  },
  {
   "cell_type": "code",
   "execution_count": null,
   "metadata": {},
   "outputs": [],
   "source": [
    "run(\"SELECT productName,productLine,buyPrice FROM products WHERE buyPrice>30 ORDER BY buyPrice\")"
   ]
  },
  {
   "cell_type": "code",
   "execution_count": null,
   "metadata": {},
   "outputs": [],
   "source": [
    "run(\"SELECT productName,productLine,buyPrice FROM products WHERE buyPrice>30 ORDER BY buyPrice DESC\")"
   ]
  },
  {
   "cell_type": "code",
   "execution_count": null,
   "metadata": {},
   "outputs": [],
   "source": [
    "run(\"SELECT productName,productLine,buyPrice FROM products WHERE buyPrice>30 ORDER BY productLine,buyPrice\")"
   ]
  },
  {
   "cell_type": "markdown",
   "metadata": {},
   "source": [
    "## 4. Membatasi Hasil Dengan Limit"
   ]
  },
  {
   "cell_type": "code",
   "execution_count": null,
   "metadata": {},
   "outputs": [],
   "source": [
    "run(\"SELECT productName,productLine,buyPrice FROM products WHERE buyPrice>30 ORDER BY productLine,buyPrice LIMIT 0,10\")"
   ]
  },
  {
   "cell_type": "code",
   "execution_count": null,
   "metadata": {},
   "outputs": [],
   "source": [
    "run(\"SELECT productName,productLine,buyPrice FROM products WHERE buyPrice>30 ORDER BY productLine,buyPrice LIMIT 10,10\")"
   ]
  },
  {
   "cell_type": "markdown",
   "metadata": {},
   "source": [
    "## 5. Pencarian String"
   ]
  },
  {
   "cell_type": "code",
   "execution_count": null,
   "metadata": {},
   "outputs": [],
   "source": [
    "run(\"\"\"\n",
    "SELECT \n",
    "    employeeNumber, \n",
    "    lastName, \n",
    "    firstName\n",
    "FROM\n",
    "    employees\n",
    "WHERE\n",
    "    firstName LIKE 'a%'\n",
    "\"\"\")"
   ]
  },
  {
   "cell_type": "code",
   "execution_count": null,
   "metadata": {},
   "outputs": [],
   "source": [
    "run(\"\"\"\n",
    "SELECT \n",
    "    employeeNumber, \n",
    "    lastName, \n",
    "    firstName\n",
    "FROM\n",
    "    employees\n",
    "WHERE\n",
    "    lastName LIKE '%on'\n",
    "\"\"\")"
   ]
  },
  {
   "cell_type": "code",
   "execution_count": null,
   "metadata": {},
   "outputs": [],
   "source": [
    "run(\"\"\"\n",
    "SELECT \n",
    "    employeeNumber, \n",
    "    lastName, \n",
    "    firstName\n",
    "FROM\n",
    "    employees\n",
    "WHERE\n",
    "    lastname LIKE '%on%'\n",
    "\"\"\")"
   ]
  },
  {
   "cell_type": "code",
   "execution_count": null,
   "metadata": {},
   "outputs": [],
   "source": [
    "run(\"\"\"\n",
    "SELECT \n",
    "    employeeNumber, \n",
    "    lastName, \n",
    "    firstName\n",
    "FROM\n",
    "    employees\n",
    "WHERE\n",
    "    firstname LIKE 'T_m'\n",
    "\"\"\")"
   ]
  },
  {
   "cell_type": "code",
   "execution_count": null,
   "metadata": {},
   "outputs": [],
   "source": [
    "run(\"\"\"\n",
    "SELECT \n",
    "    employeeNumber, \n",
    "    lastName, \n",
    "    firstName\n",
    "FROM\n",
    "    employees\n",
    "WHERE\n",
    "    lastName NOT LIKE 'B%'\n",
    "\"\"\")"
   ]
  },
  {
   "cell_type": "code",
   "execution_count": null,
   "metadata": {},
   "outputs": [],
   "source": [
    "run(\"\"\"\n",
    "SELECT \n",
    "    productCode, \n",
    "    productName\n",
    "FROM\n",
    "    products\n",
    "WHERE\n",
    "    productCode LIKE '%\\_20%';\n",
    "\"\"\")"
   ]
  },
  {
   "cell_type": "markdown",
   "metadata": {},
   "source": [
    "Jika membutuhkan Pencarian yang lebih advanced dapat menggunakan BOOLEAN Text Search atau NATURAL LANGUAGE Search:\n",
    "- http://www.mysqltutorial.org/mysql-boolean-text-searches.aspx\n",
    "- http://www.mysqltutorial.org/mysql-natural-language-search.aspx"
   ]
  },
  {
   "cell_type": "markdown",
   "metadata": {},
   "source": [
    "## 6. Query Agregasi\n",
    "SUM, COUNT, AVG, MIN, MAX + GROUP BY + HAVING"
   ]
  },
  {
   "cell_type": "code",
   "execution_count": null,
   "metadata": {},
   "outputs": [],
   "source": [
    "run(\"SELECT AVG(buyPrice) AS RataHarga FROM products\")"
   ]
  },
  {
   "cell_type": "code",
   "execution_count": null,
   "metadata": {},
   "outputs": [],
   "source": [
    "run(\"SELECT productLine,AVG(buyPrice) AS RataHarga FROM products GROUP BY productLine\")"
   ]
  },
  {
   "cell_type": "code",
   "execution_count": null,
   "metadata": {},
   "outputs": [],
   "source": [
    "run(\"SELECT productLine,AVG(buyPrice) AS RataHarga FROM products GROUP BY productLine HAVING RataHarga>50\")"
   ]
  },
  {
   "cell_type": "code",
   "execution_count": null,
   "metadata": {},
   "outputs": [],
   "source": [
    "run(\"SELECT productLine,MIN(buyPrice) AS HargaTermurah FROM products GROUP BY productLine\")"
   ]
  },
  {
   "cell_type": "code",
   "execution_count": null,
   "metadata": {},
   "outputs": [],
   "source": [
    "run(\"SELECT productLine,MAX(buyPrice) AS HargaTermahal FROM products GROUP BY productLine\")"
   ]
  },
  {
   "cell_type": "code",
   "execution_count": null,
   "metadata": {},
   "outputs": [],
   "source": [
    "run(\"SELECT productLine,COUNT(*) AS JumlahProduk FROM products GROUP BY productLine\")"
   ]
  },
  {
   "cell_type": "code",
   "execution_count": null,
   "metadata": {},
   "outputs": [],
   "source": [
    "run(\"SELECT YEAR(paymentDate) AS Tahun,SUM(amount) AS TotalBayar FROM payments GROUP BY YEAR(paymentDate)\")"
   ]
  },
  {
   "cell_type": "code",
   "execution_count": null,
   "metadata": {},
   "outputs": [],
   "source": [
    "run(\"\"\"\n",
    "SELECT \n",
    "    YEAR(paymentDate) AS Tahun,\n",
    "    MONTH(paymentDate) AS Bulan,\n",
    "    SUM(amount) AS TotalBayar \n",
    "FROM payments \n",
    "GROUP BY Tahun,Bulan\n",
    "\"\"\")"
   ]
  },
  {
   "cell_type": "code",
   "execution_count": null,
   "metadata": {},
   "outputs": [],
   "source": [
    "run(\"\"\"\n",
    "SELECT \n",
    "    YEAR(paymentDate) AS Tahun,\n",
    "    MONTH(paymentDate) AS Bulan,\n",
    "    SUM(amount) AS TotalBayar \n",
    "FROM payments \n",
    "GROUP BY Tahun,Bulan\n",
    "HAVING TotalBayar > 300000\n",
    "ORDER BY TotalBayar DESC\n",
    "\"\"\")"
   ]
  },
  {
   "cell_type": "markdown",
   "metadata": {},
   "source": [
    "## SELF STUDY\n",
    "Materi Digital Talent untuk SQL hanya 3 pertemuan, sehingga hanya cukup untuk menyampaikan SELECT saja, namun kalian belum melihat bagaimana cara untuk membuat Tabel, Kolom, serta Bagaimana melakukan manipulasi Data, berikut materi tambahan untuk dapat memanipulasi data:\n",
    "\n",
    "- https://www.youtube.com/playlist?list=PLF82-I80PwDN7KSzsJOmd8mwHYe4aAqfF\n",
    "\n",
    "Playlist dari #1 hingga #10\n"
   ]
  },
  {
   "cell_type": "code",
   "execution_count": null,
   "metadata": {},
   "outputs": [],
   "source": []
  }
 ],
 "metadata": {
  "kernelspec": {
   "display_name": "Python 3",
   "language": "python",
   "name": "python3"
  },
  "language_info": {
   "codemirror_mode": {
    "name": "ipython",
    "version": 3
   },
   "file_extension": ".py",
   "mimetype": "text/x-python",
   "name": "python",
   "nbconvert_exporter": "python",
   "pygments_lexer": "ipython3",
   "version": "3.7.0"
  }
 },
 "nbformat": 4,
 "nbformat_minor": 2
}
