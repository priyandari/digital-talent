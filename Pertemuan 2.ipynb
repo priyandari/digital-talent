{
 "cells": [
  {
   "cell_type": "markdown",
   "metadata": {},
   "source": [
    "# Pengulangan"
   ]
  },
  {
   "cell_type": "code",
   "execution_count": 3,
   "metadata": {},
   "outputs": [
    {
     "name": "stdout",
     "output_type": "stream",
     "text": [
      "0\n",
      "1\n",
      "4\n",
      "9\n",
      "16\n",
      "25\n",
      "36\n",
      "49\n",
      "64\n",
      "81\n"
     ]
    }
   ],
   "source": [
    "#Sintaks For i in range (start, end, step)\n",
    "for i in range(0,10):\n",
    "    print(i**2)"
   ]
  },
  {
   "cell_type": "markdown",
   "metadata": {},
   "source": [
    "#sintaks WHILE"
   ]
  },
  {
   "cell_type": "code",
   "execution_count": 2,
   "metadata": {},
   "outputs": [
    {
     "name": "stdout",
     "output_type": "stream",
     "text": [
      "0\n",
      "1\n",
      "2\n",
      "3\n",
      "4\n",
      "5\n",
      "6\n",
      "7\n",
      "8\n",
      "9\n"
     ]
    }
   ],
   "source": [
    "i=0\n",
    "while i<10:\n",
    "    print(i)\n",
    "    i=i+1"
   ]
  },
  {
   "cell_type": "markdown",
   "metadata": {},
   "source": [
    "# 2. List\n",
    "Tipe data menyimpan beberapa variabel\n",
    "List ini ditampung di memory. Jadi jangan gunakan list untuk file besar"
   ]
  },
  {
   "cell_type": "code",
   "execution_count": 4,
   "metadata": {},
   "outputs": [
    {
     "name": "stdout",
     "output_type": "stream",
     "text": [
      "[30, 40, 50, 60, 70, 80, 90]\n",
      "['Ani', 'Budi', 'Cita', 'Deni']\n",
      "['Big', 2.5, 90, 'Data']\n"
     ]
    }
   ],
   "source": [
    "#deklarasi list\n",
    "nilai = [30, 40, 50, 60, 70, 80, 90]\n",
    "print(nilai)\n",
    "\n",
    "peserta =['Ani', 'Budi', 'Cita', 'Deni']\n",
    "print(peserta)\n",
    "\n",
    "campuran = ['Big', 2.5, 90, 'Data']\n",
    "print(campuran)\n"
   ]
  },
  {
   "cell_type": "markdown",
   "metadata": {},
   "source": [
    "# 2.1 List Index"
   ]
  },
  {
   "cell_type": "code",
   "execution_count": 8,
   "metadata": {},
   "outputs": [
    {
     "name": "stdout",
     "output_type": "stream",
     "text": [
      "30\n",
      "70\n",
      "90\n",
      "70\n",
      "Cita\n"
     ]
    }
   ],
   "source": [
    "print(nilai[0])\n",
    "print(nilai[4])\n",
    "print(nilai[-1]) # mulai dari elemen terakhir\n",
    "print(nilai[-3])\n",
    "\n",
    "print(peserta[-2])"
   ]
  },
  {
   "cell_type": "markdown",
   "metadata": {},
   "source": [
    "# 2.2 Menambah elemen ke dalam list"
   ]
  },
  {
   "cell_type": "code",
   "execution_count": 9,
   "metadata": {},
   "outputs": [
    {
     "name": "stdout",
     "output_type": "stream",
     "text": [
      "[30, 40, 50, 60, 70, 80, 90, 40]\n"
     ]
    }
   ],
   "source": [
    "nilai.append(40) # Menambahkan ke dalam list paling belakang\n",
    "print(nilai)"
   ]
  },
  {
   "cell_type": "markdown",
   "metadata": {},
   "source": [
    "# 2.3 Slicing List"
   ]
  },
  {
   "cell_type": "code",
   "execution_count": 11,
   "metadata": {},
   "outputs": [
    {
     "name": "stdout",
     "output_type": "stream",
     "text": [
      "[50, 60, 70]\n"
     ]
    }
   ],
   "source": [
    "# elemen ke 3 sampai ke 6 ATAU indeks ke-2 s.d. indeks ke-5\n",
    "print(nilai[2:5])"
   ]
  },
  {
   "cell_type": "code",
   "execution_count": 14,
   "metadata": {},
   "outputs": [
    {
     "name": "stdout",
     "output_type": "stream",
     "text": [
      "[30, 40, 50]\n"
     ]
    }
   ],
   "source": [
    "#  Mengambil TANPA 5 elemen terakhir ATAU\n",
    "# Dari elemen pertana sampai ke-5 dari belakang\n",
    "print(nilai[:-5])"
   ]
  },
  {
   "cell_type": "code",
   "execution_count": 15,
   "metadata": {},
   "outputs": [
    {
     "name": "stdout",
     "output_type": "stream",
     "text": [
      "[80, 90, 40]\n"
     ]
    }
   ],
   "source": [
    "# Mengambil mulai dari indeks ke-5 sampai terakhir\n",
    "print(nilai[5:])"
   ]
  },
  {
   "cell_type": "code",
   "execution_count": 17,
   "metadata": {},
   "outputs": [
    {
     "name": "stdout",
     "output_type": "stream",
     "text": [
      "[30, 40, 50, 60, 70, 80, 90, 40]\n"
     ]
    }
   ],
   "source": [
    "# Mengambil seluruh nilai\n",
    "print(nilai[:])"
   ]
  },
  {
   "cell_type": "markdown",
   "metadata": {},
   "source": [
    "# 2.4 Perulangan dalam List"
   ]
  },
  {
   "cell_type": "code",
   "execution_count": 21,
   "metadata": {},
   "outputs": [
    {
     "name": "stdout",
     "output_type": "stream",
     "text": [
      "15.0\n",
      "20.0\n",
      "25.0\n",
      "30.0\n",
      "35.0\n",
      "40.0\n",
      "45.0\n",
      "20.0\n",
      "\n",
      "0 30\n",
      "1 40\n",
      "2 50\n",
      "3 60\n",
      "4 70\n",
      "5 80\n",
      "6 90\n",
      "7 40\n"
     ]
    }
   ],
   "source": [
    "for n in nilai:\n",
    "    print(n/2)\n",
    "\n",
    "print('')\n",
    "# Mendapatkan indeks dala List\n",
    "for i,n in enumerate(nilai):\n",
    "    print(i, n)"
   ]
  },
  {
   "cell_type": "markdown",
   "metadata": {},
   "source": [
    "# Latihan\n"
   ]
  },
  {
   "cell_type": "code",
   "execution_count": 22,
   "metadata": {},
   "outputs": [
    {
     "name": "stdout",
     "output_type": "stream",
     "text": [
      "57.5\n"
     ]
    }
   ],
   "source": [
    "# Algoritma Rata-rata\n",
    "total = 0\n",
    "for n in nilai:\n",
    "    total = total + n  # Memperlakukan secra float --> float(n)\n",
    "\n",
    "rata = total / len(nilai)\n",
    "print(rata)"
   ]
  },
  {
   "cell_type": "markdown",
   "metadata": {},
   "source": [
    "# Lookup nilai dalam list"
   ]
  },
  {
   "cell_type": "code",
   "execution_count": 23,
   "metadata": {},
   "outputs": [
    {
     "name": "stdout",
     "output_type": "stream",
     "text": [
      "95 tidak ada dalam list\n"
     ]
    }
   ],
   "source": [
    "n = 95\n",
    "if n in nilai:\n",
    "    print(n, \"ada dalam list\")\n",
    "else:\n",
    "    print(n, \"tidak ada dalam list\")"
   ]
  },
  {
   "cell_type": "code",
   "execution_count": 33,
   "metadata": {},
   "outputs": [
    {
     "name": "stdout",
     "output_type": "stream",
     "text": [
      "nilai rata-rata: 57.5\n",
      "nilai di atas rata-rata :\n",
      "indeks  3 Nilai : 60\n",
      "indeks  4 Nilai : 70\n",
      "indeks  5 Nilai : 80\n",
      "indeks  6 Nilai : 90\n"
     ]
    }
   ],
   "source": [
    "total = 0\n",
    "for n in nilai:\n",
    "    total = total + n  # Memperlakukan secra float --> float(n)\n",
    "\n",
    "rata = total / len(nilai)\n",
    "print(\"nilai rata-rata:\", rata)\n",
    "print(\"nilai di atas rata-rata :\")\n",
    "for i,n in enumerate(nilai):\n",
    "    if n >= rata:\n",
    "        print(\"indeks \", i, \"Nilai :\", n)\n"
   ]
  },
  {
   "cell_type": "markdown",
   "metadata": {},
   "source": [
    "# Tuple\n",
    "Mirip dengan list, TETAPI bersifat IMMUTABLE (tidak dapat diubah)\n",
    "Keuntungannya akses data lebih cepat"
   ]
  },
  {
   "cell_type": "code",
   "execution_count": 35,
   "metadata": {},
   "outputs": [],
   "source": [
    "# Deklarasi\n",
    "bulan = (\"Januari\", \"Februari\")"
   ]
  },
  {
   "cell_type": "markdown",
   "metadata": {},
   "source": [
    "# Dictionary\n",
    "Dictionary berpasangan dengan Key dan Value"
   ]
  },
  {
   "cell_type": "code",
   "execution_count": 2,
   "metadata": {},
   "outputs": [
    {
     "name": "stdout",
     "output_type": "stream",
     "text": [
      "Budi\n",
      "7\n",
      "Budi tidak ada dalam list\n",
      "Nama Budi\n",
      "Umur 7\n",
      "jeniskelamin laki-laki\n",
      "\n",
      "{'Nama': 'Ani', 'Umur': 9, 'jeniskelamin': 'perempuan'}\n"
     ]
    }
   ],
   "source": [
    "siswa = {'Nama' : 'Budi', 'Umur': 7, 'jeniskelamin':'laki-laki'}\n",
    "siswa2 = {'Nama' : 'Ani', 'Umur': 9, 'jeniskelamin':'perempuan'}\n",
    "\n",
    "print(siswa['Nama'])\n",
    "print(siswa['Umur'])\n",
    "\n",
    "n = \"Budi\"\n",
    "if n in siswa:\n",
    "    print(n, \"ada dalam list\")\n",
    "else:\n",
    "    print(n, \"tidak ada dalam list\")\n",
    "\n",
    "#Menampilkan key dan value\n",
    "for k,v in siswa.items():  #python 3 pakai items\n",
    "    print(k,v)\n",
    "\n",
    "print('')\n",
    "list_siswa = []\n",
    "list_siswa.append(siswa)\n",
    "list_siswa.append(siswa2)\n",
    "\n",
    "print(list_siswa[1])\n"
   ]
  },
  {
   "cell_type": "code",
   "execution_count": 38,
   "metadata": {},
   "outputs": [
    {
     "name": "stdout",
     "output_type": "stream",
     "text": [
      "{'Nama': 'Anita', 'Umur': 9, 'jeniskelamin': 'perempuan'}\n"
     ]
    }
   ],
   "source": [
    "# Mengubah Nilai\n",
    "siswa2['Nama'] = \"Anita\"\n",
    "print(siswa2)"
   ]
  },
  {
   "cell_type": "code",
   "execution_count": 48,
   "metadata": {},
   "outputs": [
    {
     "name": "stdout",
     "output_type": "stream",
     "text": [
      "{'Nama': 'Ani', 'Umur': 9, 'jeniskelamin': 'perempuan', 'Alamat': 'Jl. Samratulangi No 36'}\n",
      "[{'Nama': 'Budi', 'Umur': 7, 'jeniskelamin': 'laki-laki'}, {'Nama': 'Ani', 'Umur': 9, 'jeniskelamin': 'perempuan', 'Alamat': 'Jl. Samratulangi No 36'}]\n",
      "30\n",
      "40\n",
      "50\n",
      "60\n",
      "70\n",
      "80\n",
      "90\n",
      "40\n"
     ]
    }
   ],
   "source": [
    "# Menambahkan data dengan key baru\n",
    "siswa2['Alamat'] = \"Jl. Samratulangi No 36\"\n",
    "print(siswa2)\n",
    "\n",
    "print(list_siswa)\n",
    "\n",
    "siswa['Nilai'] = nilai\n",
    "\n",
    "for n in siswa[\"Nilai\"]:\n",
    "    print(n)\n"
   ]
  },
  {
   "cell_type": "code",
   "execution_count": 49,
   "metadata": {},
   "outputs": [
    {
     "name": "stdout",
     "output_type": "stream",
     "text": [
      "====================\n",
      "Nama Budi\n",
      "Umur 7\n",
      "jeniskelamin laki-laki\n",
      "Nilai [30, 40, 50, 60, 70, 80, 90, 40]\n",
      "====================\n",
      "Nama Ani\n",
      "Umur 9\n",
      "jeniskelamin perempuan\n",
      "Alamat Jl. Samratulangi No 36\n"
     ]
    }
   ],
   "source": [
    "for l in list_siswa:\n",
    "    print(\"====================\")\n",
    "    for k,v in l.items():\n",
    "        print(k,v)"
   ]
  },
  {
   "cell_type": "markdown",
   "metadata": {},
   "source": [
    "# 5. Operasi String\n"
   ]
  },
  {
   "cell_type": "markdown",
   "metadata": {},
   "source": [
    "# 5.1 Slicing dan akses per karakter"
   ]
  },
  {
   "cell_type": "code",
   "execution_count": 50,
   "metadata": {},
   "outputs": [
    {
     "name": "stdout",
     "output_type": "stream",
     "text": [
      "Tutori\n",
      "ograman Py\n"
     ]
    }
   ],
   "source": [
    "nama =\"Tutorial Bahasa Pemrograman Python\"\n",
    "print(nama[0:6])\n",
    "print(nama[20:30])"
   ]
  },
  {
   "cell_type": "code",
   "execution_count": null,
   "metadata": {},
   "outputs": [],
   "source": [
    "for n in nama:\n",
    "    print(n)"
   ]
  },
  {
   "cell_type": "markdown",
   "metadata": {},
   "source": [
    "# 5.2 Mengubah String menjadi list kata"
   ]
  },
  {
   "cell_type": "markdown",
   "metadata": {},
   "source": [
    "Menggunakan fungsi split. Hasilnya menjadi LIST"
   ]
  },
  {
   "cell_type": "code",
   "execution_count": 52,
   "metadata": {},
   "outputs": [
    {
     "name": "stdout",
     "output_type": "stream",
     "text": [
      "['Tutorial', 'Bahasa', 'Pemrograman', 'Python']\n",
      "Tutorial\n",
      "Pemrograman\n"
     ]
    }
   ],
   "source": [
    "list_kata = nama.split()\n",
    "print(list_kata)\n",
    "print(list_kata[0])\n",
    "print(list_kata[2])"
   ]
  },
  {
   "cell_type": "code",
   "execution_count": 53,
   "metadata": {},
   "outputs": [
    {
     "name": "stdout",
     "output_type": "stream",
     "text": [
      "Pada hari minggu kuturut ayah ke kota\n",
      " Naik delman istimewa ku duduk dimuka\n",
      "\n"
     ]
    }
   ],
   "source": [
    "paragraf = \"Pada hari minggu kuturut ayah ke kota. Naik delman istimewa ku duduk dimuka.\"\n",
    "kalimat = paragraf.split('.')\n",
    "\n",
    "for k in kalimat:\n",
    "    print(k)\n"
   ]
  },
  {
   "cell_type": "markdown",
   "metadata": {},
   "source": [
    "# 5.3 Pencarian kata dalam string"
   ]
  },
  {
   "cell_type": "code",
   "execution_count": 54,
   "metadata": {},
   "outputs": [
    {
     "name": "stdout",
     "output_type": "stream",
     "text": [
      "Found !\n"
     ]
    }
   ],
   "source": [
    "cari = 'Python'\n",
    "if cari in nama:\n",
    "    print(\"Found !\")\n",
    "else:\n",
    "    print(\"Not Found !\")"
   ]
  },
  {
   "cell_type": "markdown",
   "metadata": {},
   "source": [
    "# 5.4 Replace String"
   ]
  },
  {
   "cell_type": "code",
   "execution_count": 55,
   "metadata": {},
   "outputs": [
    {
     "name": "stdout",
     "output_type": "stream",
     "text": [
      "Pada hari senin kuturut ibu ke kota. Naik delman istimewa ku duduk dimuka.\n"
     ]
    }
   ],
   "source": [
    "paragraf = paragraf.replace('minggu', 'senin')\n",
    "paragraf = paragraf.replace('ayah', 'ibu')\n",
    "print(paragraf)"
   ]
  },
  {
   "cell_type": "code",
   "execution_count": null,
   "metadata": {},
   "outputs": [],
   "source": []
  }
 ],
 "metadata": {
  "kernelspec": {
   "display_name": "Python 3",
   "language": "python",
   "name": "python3"
  },
  "language_info": {
   "codemirror_mode": {
    "name": "ipython",
    "version": 3
   },
   "file_extension": ".py",
   "mimetype": "text/x-python",
   "name": "python",
   "nbconvert_exporter": "python",
   "pygments_lexer": "ipython3",
   "version": "3.7.0"
  }
 },
 "nbformat": 4,
 "nbformat_minor": 2
}
